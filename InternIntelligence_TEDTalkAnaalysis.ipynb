{
  "nbformat": 4,
  "nbformat_minor": 0,
  "metadata": {
    "colab": {
      "provenance": []
    },
    "kernelspec": {
      "name": "python3",
      "display_name": "Python 3"
    },
    "language_info": {
      "name": "python"
    }
  },
  "cells": [
    {
      "cell_type": "code",
      "execution_count": null,
      "metadata": {
        "colab": {
          "base_uri": "https://localhost:8080/"
        },
        "id": "XuwQJb97QPSh",
        "outputId": "88442cac-07ac-4c4b-d477-650e94b123a4"
      },
      "outputs": [
        {
          "output_type": "stream",
          "name": "stdout",
          "text": [
            "--2025-02-22 15:31:30--  https://dlcdn.apache.org/spark/spark-3.5.4/spark-3.5.4-bin-hadoop3.tgz\n",
            "Resolving dlcdn.apache.org (dlcdn.apache.org)... 151.101.2.132, 2a04:4e42::644\n",
            "Connecting to dlcdn.apache.org (dlcdn.apache.org)|151.101.2.132|:443... connected.\n",
            "HTTP request sent, awaiting response... 200 OK\n",
            "Length: 400879762 (382M) [application/x-gzip]\n",
            "Saving to: ‘spark-3.5.4-bin-hadoop3.tgz’\n",
            "\n",
            "spark-3.5.4-bin-had 100%[===================>] 382.31M   155MB/s    in 2.5s    \n",
            "\n",
            "2025-02-22 15:31:33 (155 MB/s) - ‘spark-3.5.4-bin-hadoop3.tgz’ saved [400879762/400879762]\n",
            "\n"
          ]
        }
      ],
      "source": [
        "# Downloade the Apache Spark\n",
        "!wget https://dlcdn.apache.org/spark/spark-3.5.4/spark-3.5.4-bin-hadoop3.tgz"
      ]
    },
    {
      "cell_type": "code",
      "source": [
        "!tar xf spark-3.5.4-bin-hadoop3.tgz"
      ],
      "metadata": {
        "id": "A0OMDWgnSSQS"
      },
      "execution_count": null,
      "outputs": []
    },
    {
      "cell_type": "code",
      "source": [
        "# Download the Findspark\n",
        "!pip install -q findspark"
      ],
      "metadata": {
        "id": "CfDfdfWOSSMs"
      },
      "execution_count": null,
      "outputs": []
    },
    {
      "cell_type": "code",
      "source": [
        "# Download the PySpark\n",
        "!pip install pyspark"
      ],
      "metadata": {
        "colab": {
          "base_uri": "https://localhost:8080/"
        },
        "id": "LoVVThKmSSKE",
        "outputId": "28c83e6c-94ed-46ce-bf45-cd4b224056b9"
      },
      "execution_count": null,
      "outputs": [
        {
          "output_type": "stream",
          "name": "stdout",
          "text": [
            "Requirement already satisfied: pyspark in /usr/local/lib/python3.11/dist-packages (3.5.4)\n",
            "Requirement already satisfied: py4j==0.10.9.7 in /usr/local/lib/python3.11/dist-packages (from pyspark) (0.10.9.7)\n"
          ]
        }
      ]
    },
    {
      "cell_type": "code",
      "source": [
        "# Initialize the Spark Environment\n",
        "import findspark\n",
        "findspark.init(\"spark-3.5.4-bin-hadoop3\")"
      ],
      "metadata": {
        "id": "9XT3_ud0SSHY"
      },
      "execution_count": null,
      "outputs": []
    },
    {
      "cell_type": "code",
      "source": [
        "# Create Spark Session\n",
        "from pyspark.sql import SparkSession\n",
        "\n",
        "spark = SparkSession.builder.appName(\"TEDTalkAnalysis\").getOrCreate()"
      ],
      "metadata": {
        "id": "LZKeEDNCSSFD"
      },
      "execution_count": null,
      "outputs": []
    },
    {
      "cell_type": "code",
      "source": [
        "spark"
      ],
      "metadata": {
        "colab": {
          "base_uri": "https://localhost:8080/",
          "height": 222
        },
        "id": "x07kAIOjT99q",
        "outputId": "930ce563-1e14-4ac8-9b5a-804d339c3758"
      },
      "execution_count": null,
      "outputs": [
        {
          "output_type": "execute_result",
          "data": {
            "text/plain": [
              "<pyspark.sql.session.SparkSession at 0x7ebce1985550>"
            ],
            "text/html": [
              "\n",
              "            <div>\n",
              "                <p><b>SparkSession - in-memory</b></p>\n",
              "                \n",
              "        <div>\n",
              "            <p><b>SparkContext</b></p>\n",
              "\n",
              "            <p><a href=\"http://343fd5cce4e5:4040\">Spark UI</a></p>\n",
              "\n",
              "            <dl>\n",
              "              <dt>Version</dt>\n",
              "                <dd><code>v3.5.4</code></dd>\n",
              "              <dt>Master</dt>\n",
              "                <dd><code>local[*]</code></dd>\n",
              "              <dt>AppName</dt>\n",
              "                <dd><code>TEDTalkAnalysis</code></dd>\n",
              "            </dl>\n",
              "        </div>\n",
              "        \n",
              "            </div>\n",
              "        "
            ]
          },
          "metadata": {},
          "execution_count": 10
        }
      ]
    },
    {
      "cell_type": "code",
      "source": [
        "df=spark.read.csv('/content/TED_Talk.csv')"
      ],
      "metadata": {
        "id": "WauijI04T96I"
      },
      "execution_count": null,
      "outputs": []
    },
    {
      "cell_type": "code",
      "source": [
        "df.show()"
      ],
      "metadata": {
        "colab": {
          "base_uri": "https://localhost:8080/"
        },
        "id": "j0BJW9TYT93Z",
        "outputId": "8a4d08d0-702a-4cfa-a8d0-188d36a7bab2"
      },
      "execution_count": null,
      "outputs": [
        {
          "output_type": "stream",
          "name": "stdout",
          "text": [
            "+--------+--------------------+--------------------+--------------------+--------------------+--------------------+--------------------+--------------------+--------------------+--------------------+--------------------+--------------------+--------------------+--------------------+--------------------+--------------------+--------------------+--------------------+--------------------+--------------------+--------------------+--------------------+--------------------+--------------------+--------------------+--------------------+--------------------+--------------------+--------------------+--------------------+--------------------+--------------------+--------------------+--------------------+--------------------+--------------------+--------------------+--------------------+--------------------+--------------------+--------------------+--------------------+--------------------+--------------------+--------------------+--------------------+--------------------+--------------------+--------------------+--------------------+--------------------+--------------------+\n",
            "|     _c0|                 _c1|                 _c2|                 _c3|                 _c4|                 _c5|                 _c6|                 _c7|                 _c8|                 _c9|                _c10|                _c11|                _c12|                _c13|                _c14|                _c15|                _c16|                _c17|                _c18|                _c19|                _c20|                _c21|                _c22|                _c23|                _c24|                _c25|                _c26|                _c27|                _c28|                _c29|                _c30|                _c31|                _c32|                _c33|                _c34|                _c35|                _c36|                _c37|                _c38|                _c39|                _c40|                _c41|                _c42|                _c43|                _c44|                _c45|                _c46|                _c47|                _c48|                _c49|                _c50|                _c51|\n",
            "+--------+--------------------+--------------------+--------------------+--------------------+--------------------+--------------------+--------------------+--------------------+--------------------+--------------------+--------------------+--------------------+--------------------+--------------------+--------------------+--------------------+--------------------+--------------------+--------------------+--------------------+--------------------+--------------------+--------------------+--------------------+--------------------+--------------------+--------------------+--------------------+--------------------+--------------------+--------------------+--------------------+--------------------+--------------------+--------------------+--------------------+--------------------+--------------------+--------------------+--------------------+--------------------+--------------------+--------------------+--------------------+--------------------+--------------------+--------------------+--------------------+--------------------+--------------------+--------------------+\n",
            "|talk__id|          talk__name|   talk__description|          view_count|       comment_count|            duration|          transcript|     video_type_name|               event| number_of__speakers|         speaker__id|       speaker__name|speaker__description|  speaker__who_he_is| speaker__why_listen|speaker__what_oth...|speaker__is_publi...|all_speakers_details|    is_talk_featured|   has_talk_citation|      recording_date| published_timestamp|         talks__tags|     number_of__tags|            language|     native_language|       language_swap|is_subtitle_required|        url__webpage|          url__audio|          url__video|    url__photo__talk| url__photo__speaker|url__subtitled_vi...|number_of__subtit...|talk__download_la...|number_of__talk__...|talk__more_resources|number_of__talk__...|talk__recommendat...|talk__recommendat...|number_of__talk__...|       related_talks|number_of__relate...|      intro_duration|         ad_duration|    post_ad_duration|  external__duration|external__start_time|talks__player_tal...|  talks__take_action|number_of__talks_...|\n",
            "|      66|Do schools kill c...|Sir Ken Robinson ...|            65678748|              4952.0|                1164|\"Good morning. Ho...| you can see the ...| \"\"Oh my God. Why...| they pin you to ...| because it's one...| am I right? Like...| and I think we a...| partly because i...| children startin...| despite all the ...| what the world w...| we're meant to b...|             I think| is extraordinary...|         nonetheless| on the really ex...| Sirena last nigh...| wasn't she? Just...| but I think she'...|         so to speak| exceptional in t...| all kids have tr...| and we squander ...| pretty ruthlessl...| and I want to ta...| and we should tr...| by the way. Than...| 15 minutes left....| I was born ... \"...| and she was at t...|             drawing| and the teacher ...| and in this draw...| she did. The tea...|        and she said| \"\"What are you d...| \"\"I'm drawing a ...| \"\"But nobody kno...| \"\"They will in a...| he was four ever...| to be honest.(La...|    wherever he went| he was four that...|          it was big| it was a big sto...| you may have see...|\n",
            "|    2405|This is what happ...|Suspicious emails...|            59725446|               288.0|                 588|\"A few years ago,...| I have an intere...|      Solomon.\"\" Now| my hand was kind...| right? I was loo...| I could just del...|           \"\"Solomon| Your email intri...| \"\"Dear James Veitch| We shall be ship...| \"\"How much is it...| \"\"We will start ...|     \"\" — I was like| aww — and then h...| \"\"of 25 kgs.(Lau...|           \"\"Solomon| if we're going t...| let's go big.(Ap...| \"\"It is not a ma...| what matters is ...| \"\"50 kgs? There'...| \"\"What do you do...| \"\"I'm a hedge fu...|           my friend| no no no.Then I ...| \"\"Where are you ...| but I think if w...| it ought to be s...| \"\"It will not be...|           \"\"Solomon| I'm completely w...| but there's defi...|           \"\"Solomon| attached to this...| and this was it ...| \"\"I will be so m...| because I'm goin...|    \"\"That's amazing| What are you goi...|     \"\"On RealEstate| what about you?\"...| \"\"One word; Humm...| and you can dip ...| Solomon?\"\"(Laugh...| \"\"I have to go b...| \"\"Bonsoir my gol...|\n",
            "|    1569|Your body languag...|\"(NOTE: Some of t...| but it may also ...| even when we don...| and might have a...|            57734063|              2649.0|                1262|\"So I want to sta...|          \"\" you say| \"\"I want you to ...| and it's going t...| and these people...|     for two minutes| either high-powe...| and I'm just goi...| although they to...| you're making yo...| you're really pr...| they spit into a...|     for two minutes|              we say| \"\"You need to do...| \"\"How powerful d...| and then we give...| and then we take...| which is the gam...| we find that whe...| 86 percent of yo...|     only 60 percent| and that's a who...| high-power peopl...| and low-power pe...|         two minutes| and you get thes...| and the low-powe...| confident and co...| or really stress...| and feeling sort...| right? So it see...| so it's not just...| but it's also ou...| our bodies chang...|           of course|                  is| can power posing...| it's this little...| it's just a coup...| of course. And s...| like social thre...| either by your f...|\n",
            "|     848|How great leaders...|\"Simon Sinek has ...| Martin Luther Ki...|            50494918|              2093.0|                1084|\"How do you expla...|\"\" I mean: What's...|    the way we think|              we act| the way we commu...| it's obvious. We...| regardless of th...| act and communic...| a marketing mess...| simple to use an...| that's how we co...| we say how we're...|          a purchase|              a vote| something like t...| we always perfor...| it has leather s...| we believe in ch...| simple to use an...| right? You're re...| or a phone from ...| or a DVR from Ap...| Apple's just a c...| they tried. A fe...| Gateway came out...| and they make gr...| and they can mak...| talking about it...| we can't even im...| biology. If you ...|   from the top down| the human brain ...| our Homo sapien ...|       our neocortex| corresponds with...| and our limbic b...| like trust and l...| all decision-making| and it has no ca...| when we communic...|                 yes| people can under...| we're talking di...| and then we allo...|        and they say|\n",
            "|    1042|The power of vuln...|Brené Brown studi...|            48503432|              2234.0|                1219|\"So, I'll start w...|              \"\"Well| what's the strug...|              \"\"Well|     I saw you speak| and I'm going to...|             I think| but I'm afraid i...|    no one will come| because they'll ...| \"\"Okay.\"\" And sh...| \"\"But the thing ...|        the academic| insecure part of...| \"\"You're going t...| \"\"I'm going to c...| \"\"Why not 'magic...| \"\"Let me think a...|            you know| I am a storytell...| \"\"You know what?...| \"\"Ha ha. There's...| and I'm going to...|    doctoral student|       my first year| I had a research...|  \"\"Here's the thing| if you cannot me...| it does not exis...| \"\"Really?\"\" and ...| \"\"Absolutely.\"\" ...| and I was gettin...| so my entire aca...| love it.\"\" And I...|      \"\"life's messy|         clean it up| organize it and ...| to found a caree...| one of the big s...| \"\"Lean into the ...| knock discomfort...|       you know what| this is the care...| because I am int...| by the time you'...| what you realize...|\n",
            "|    2034|How to speak so t...|Have you ever fel...|            42330489|               411.0|                 598|\"The human voice:...| people don't lis...| there are a numb...|     but these seven|             I think| are pretty large...| gossip. Speaking...| and we know perf...|  five minutes later| will be gossipin...| judging. We know...| and it's very ha...| negativity. You ...| in the last year...| became very nega...| and it's hard to...|       I said to her| \"\"It's October 1...|     \"\" and she said|            \"\"I know| isn't it dreadfu...|   complaining. Well| this is the nati...|               sport|      about politics|    about everything|        but actually| complaining is v...|           and again| hard to listen t...| the sixth of the...|          embroidery| exaggeration. It...|            actually| sometimes. For e...| if I see somethi...| what do I call i...|           of course| this exaggeratio...| and we don't wan...| dogmatism. The c...| you're listening...| somebody is bomb...| seven deadly sin...| there is. I'd li...|         foundations|\n",
            "|    2458|Inside the mind o...|Tim Urban knows t...|            39714672|               579.0|                 843|\"So in college, I...| \"\"Yeah.\"\" And th...| \"\"We need to tal...| \"\"OK.\"\" And they...| \"\"It's the best ...| very bad thesis....| \"\"This guy is am...|                  no|         it was very|    very bad. Anyway| today I'm a writ...| I decided to wri...| and I wanted to ...| and why we are t...| I had a hypothes...| I found an MRI l...| so I could compa...| it's not that ob...| but just take a ...| OK? So here's th...| but the procrast...| what does this m...| it means everyth...| but the Monkey d...| so he actually t...|         and he says|          \"\"Actually| let's read the e...| because I just r...| to see if there'...| we're going to g...| much later with ...| so we're not goi...| what is going on...| no knowledge of ...| and he only care...| in the animal world| that works fine....| you're a huge su...| humans are just ...| well-fed and pro...| which in tribal ...| if you haven't n...| now we're not in...| and the Monkey d...| the Rational Dec...|\n",
            "|    2225|The next outbreak...|\"In 2014, the wor...|            35814459|               494.0|                 512|When I was a kid,...|      TED Stage Talk|             TED2015|                   1|               339.0|          Bill Gates|Technologist, phi...|A passionate tech...|Bill Gates is coc...|                NULL|                 1.0|\"[{'id': '339', '...| Bill Gates chang...| 'whylisten': '<p...| he founded Micro...| tech visionary a...| Gates led the co...| Gates transition...| he leads the fou...| the foundation h...|           libraries| agriculture rese...| the Gateses foun...| an effort to enc...| Gates created th...| a group of indiv...| followed by Brea...| an investor-led ...|&nbsp;<a href=\"\"h...| and read a colle...| where they take ...|                True|                 0.0|          2015-03-18| 2015-04-03 14:58:45|['disaster relief...|                   6|                  en|                  en|               False|               False|https://www.ted.c...|https://download....|{'low': 'https://...|https://pe.tedcdn...|https://pe.tedcdn...|\n",
            "|   13587|My philosophy for...|Born with a rare ...|            34858496|                NULL|                 765|\"Hello everyone. ...| with a lot of th...| I don't want peo...| and I'm able to ...| to share with yo...|              for me| there are 3 aspe...| \"\"Isn’t it hard ...| even though I ha...| most of my time ...| or go on an inte...| I know what I’m ...| I choose to focu...|       like scouting|            or music|      or comic books| or any of my fav...| so — (Laughter) ...| sometimes I need...| and I want to pu...|           all right| so — That was pr...| and so I was abl...| as I believe I c...| you can accompli...| with this outloo...| people of high q...| who have always ...| a lot of us are ...| but we really en...| and we help each...| and we can now m...| as a single coll...| is that the musi...|             is true|          is genuine| and it supersede...| going on TV a co...| I feel like I’m ...| as I hope I can ...| is that I hope y...|   love your friends|        for you guys| love you Bro’s a...|  and your community| because they are...|\n",
            "|    1647|Looks aren't ever...|\"Cameron Russell ...| pretty and an un...| she takes a wry ...|            34572281|               926.0|                 577|\"Hi. My name is C...|       I was scouted|\"\" but that means...| and I am the rec...| and maybe you're...| for the past few...|    but also as tall|     slender figures| and femininity a...| and it's a legac...| and maybe there ...| \"\"Wait. Naomi. T...| I commend you on...| I have to inform...| a very inspired ...| every single one...| and of the 677 m...|             only 27| or less than fou...| were non-white.T...| \"\"Can I be a mod...|      \"\"I don't know| they don't put m...| and what I reall...| \"\"Why? You know?...| or the inventor ...| or a ninja cardi...| which would be a...| because you'd be...| after this amazi...| they still are like|                \"\"No|                  no|             Cameron| I want to be a m...|             \"\" well|          then I say| \"\"Be my boss.\"\" ...| and you could be...| or the next Stev...|    and it's awesome| and it's not a c...| because unlike c...| it can just be d...|\n",
            "|    2399|What makes a good...|What keeps us hap...|            33478530|               920.0|                 766|\"What keeps us he...| we don't just se...| we scan their br...| we talk to their...|  about a decade ago| we finally asked...| many of the wome...|          \"\"You know| it's about time....| the lessons aren...| and that lonelin...|          to friends|        to community|         are happier| they're physical...| and they live lo...| their health dec...| their brain func...| more than one in...| so the second bi...| and it's not whe...| but it's the qua...|         for example| without much aff...| turn out to be v...| perhaps worse th...| warm relationshi...| we wanted to loo...| healthy octogena...| it wasn't their ...| close relationsh...|        in their 80s| that on the days...| their mood staye...| on the days when...| it was magnified...| they protect our...| that the people ...| those people's m...| those are the pe...| they don't have ...| but as long as t...| those arguments ...|           that good| close relationsh...| this is wisdom t...|\n",
            "|   13589|Why people believ...|Most people think...|            32441676|                NULL|                 904|\"Hi. I've got a q...| or you can't.\"\" ...| I think it's mor...| that's just an i...| and today I'd li...| I'm not saying w...| by the end of th...| you could draw p...| yes! (Laughter) ...| there are only t...| just be prepared...| so here's how it...| so just watch to...|            you draw| and when you've ...|             look up| and I'll know yo...| here we go. Star...|     the mouth. Nice|      big smile. Now|           over here|       the ear. Next| some spiky hair....| put the pen to t...| little line like...| drop a line like...| top of the T-shi...| line to the righ...|       fantastic. So| it looks like yo...| but you've actua...| because we're ju...|      under the hair| little V-shape f...|    line to the left| line to the righ...| we've got Spike ...| two circles toge...| two little dots ...|        the ear. Now| we'll have some ...| watch. Nice curl...| little line like...| drop a line. Top...| line to the righ...| so we've got the...|\n",
            "|     549|10 things you did...|\"\"\"Bonk\"\" author ...| some of it centu...| to make 10 surpr...| ranging from the...|            31285464|               406.0|                1003|\"Alright. I'm goi...| in the words of ...| \"\"The hand grasp...| so it would have...| this is the part...|      like digestion| heart rate and s...| Kinsey interview...|    like paraplegias|       quadriplegias| will often devel...| very sensitive a...| wherever that is...| who was fascinat...| but no — it happ...| to see if that w...|            you know| motion. And the ...| I interviewed a ...| in a sushi resta...|                \"\"So| could you do it ...|              \"\"Yeah| but you know I'd...| she was kind eno...| \"\"Are you just d...|      \"\"No. Honestly|     when I get home| I'm usually too ...| along the spinal...| is something cal...| which is back he...| if you stimulate...|    the precise spot| you will trigger...| a beating-heart ...|        legally dead| definitely check...| but is being kep...| so that their or...| if you trigger t...| you will see som...| not being dead. ...|\n",
            "|    1792|The orchestra in ...|In a highly enter...|            29331917|               191.0|                 701|\"My name is Tom, ...| TEDx. If you guy...|  my name's Tom Thum| and I'm a beatboxer| which means all ...| and the only thi...| very stoked — (A...| Mom! I made it! ...| very stoked to b...| representing my ...| and there's not ...| especially where...|   I'm from Brisbane| which is a great...|     I'm from Brizzy| which is a great...| but let's be hon...| and so the pursu...|            if I may| my experiences. ...| I would like to ...|               party| yeah. (Laughter)...| ladies and gentl...| I would like to ...| and they allow m...| the one on the l...| which gives me t...| I can use them i...| the one on my ri...| ladies and gentl...| I would like to ...| take it away. (M...| I'd like to intr...| one of the great...| let's take it fo...| baby. (Music) Al...| ladies and gentl...| I'd like to intr...| one of the great...| please give a wa...|           TEDx Talk|          TEDxSydney|                   1|              1664.0|            Tom Thum|\n",
            "|    1246|  How to spot a liar|\"On any given day...|            29092750|               660.0|                1130|\"Okay, now I don'...|\"\" no one wants t...|                  no|                  no|                  no|                  no|        no. They say|         \"\"It's okay| we'll email you....|             \"\"Honey| deception? Maybe...| what I'm going t...| which is not to ...| those kids in th...| \"\"Gotcha! Gotcha...| liespotters are ...| and they do what...| sometimes during...| and that proposi...| a lie has no pow...|            but look| if at some point...| it's because you...| maybe to keep a ...|      secret. We say| \"\"Nice song.\"\" \"...| you don't look f...|     no.\"\" Or we say| favorite of the ...|          \"\"You know| I just fished th...|              Madoff| the mortgage cri...| like Robert Hans...| lies can betray ...| they can comprom...| they can undermi...| they can cause t...|    Henry Oberlander| he was such an e...| British authorit...| and he said the ...|              \"\"Look| I've got one rul...|             he said|              \"\"Look|\n",
            "|    1821|The art of misdir...|Hailed as the gre...|            27705296|               310.0|                 527|Do you think it's...|      TED Stage Talk|      TEDGlobal 2013|                   1|              1616.0|      Apollo Robbins|     Gentleman thief|Apollo Robbins wi...|\"Pickpocketing is...| as he told the  ...| is “stepping out...| thinking through...| but it’s happeni...| speaker and tele...| and he also is t...| a collective of ...|In magic circles,...|                 1.0|\"[{'id': '1616', ...| Robbins is regar...| though he largel...| as the magician ...| 'the best-kept s...| 'whotheyare': 'A...| then hand them b...| 'whylisten': '<p...| while the other ...| and the next thi...| possessor of a s...| a taste for clas...| and something he...| as he told <a hr...|</em> is &ldquo;s...| thinking through...| but it&rsquo;s h...| speaker and tele...| and he also is t...| a collective of ...|                True|                NULL|          2013-06-12| 2013-09-13 15:02:39|['crime', 'entert...|                   2|                  en|                  en|\n",
            "|     229|My stroke of insight|Jill Bolte Taylor...|            26728715|              2986.0|                1099|\"I grew up to stu...| as compared with...| schizoaffective ...| with which chemi...| and then in what...| but then in the ...| I traveled as an...| the National All...|                1996| I woke up to dis...| I watched my bra...|    I could not walk|                talk|                read| write or recall ...| it's obvious tha...| laughter)So this...| the back of brai...| and this is how ...| it's obvious tha...| our right hemisp...| while our left h...| which is made up...| the two hemisphe...| each of our hemi...| they care about ...|                 and|          dare I say| they have very d...| right now.\"\" Our...| it thinks in pic...| in the form of e...| streams in simul...| what this presen...| what it feels li...|           right now| we are brothers ...| here to make the...| we are whole and...| our left hemisphere| is a very differ...| and more details...| associates it wi...| and projects int...|               \"\"Hey| you've got to re...|\n",
            "|     741|How I held my bre...|In this highly pe...|            26510997|               331.0|                1219|\"As a magician, I...|             \"\"David|   you're a magician| create the illus...| it will be much ...| he came up with ...| with a CO2 scrubber| which was basica...| with a balloon d...| that he thought ...| and somehow be a...| that clearly was...| I got my hands o...| filled the sink ...| and stuck my fac...| which was really...|    as a doctor said| while having an ...| that idea disapp...| would it be poss...| and then appear ...| obviously.Then I...| I started resear...| because they go ...| I found the worl...| pretty much. The...| where people go ...| you should never...| and it builds up...| I learned never ...| and just control...| you get lightheaded| you get tingling...| when you hold yo...| it's infinitely ...| and just hold an...| and just hold an...|  this is for months| I would wake up ...|   out of 52 minutes| I would hold my ...| basically what t...| I'd breathe real...|   immediately after| for five and a h...| purging as hard ...|\n",
            "|    1377|The power of intr...|In a culture wher...|            26452711|              1320.0|                1144|\"When I was nine ...| that's the way w...|              rowdie| let's get rowdie...| or why we had to...| the coolest girl...| \"\"Why are you be...|           of course| being the exact ...| the counselor ca...| back in their su...| and I put them u...| and there they s...| and they were ca...| I tell you this ...| that I should be...| and so I became ...|       of all things| instead of the w...| that I wasn't ev...| and it's our los...| but it is also o...| it is the world'...| we need introver...| I'm talking abou...| to see the bias ...| you need to unde...| how do you respo...| including social...| whereas introver...| more low-key env...| our schools and ...| they are designe...| which holds that...| we sat in rows. ...| and we did most ...| your typical cla...| which you think ...| kids are now exp...| those kids are s...|               worse| as problem cases...| even though intr...| according to res...| same thing is tr...| most of us work ...|\n",
            "+--------+--------------------+--------------------+--------------------+--------------------+--------------------+--------------------+--------------------+--------------------+--------------------+--------------------+--------------------+--------------------+--------------------+--------------------+--------------------+--------------------+--------------------+--------------------+--------------------+--------------------+--------------------+--------------------+--------------------+--------------------+--------------------+--------------------+--------------------+--------------------+--------------------+--------------------+--------------------+--------------------+--------------------+--------------------+--------------------+--------------------+--------------------+--------------------+--------------------+--------------------+--------------------+--------------------+--------------------+--------------------+--------------------+--------------------+--------------------+--------------------+--------------------+--------------------+--------------------+\n",
            "only showing top 20 rows\n",
            "\n"
          ]
        }
      ]
    },
    {
      "cell_type": "code",
      "source": [
        "type(df)"
      ],
      "metadata": {
        "colab": {
          "base_uri": "https://localhost:8080/",
          "height": 186
        },
        "id": "kArqIfV3T90i",
        "outputId": "47d7a13b-85ff-490a-d419-f0f5f2ac188d"
      },
      "execution_count": null,
      "outputs": [
        {
          "output_type": "execute_result",
          "data": {
            "text/plain": [
              "pyspark.sql.dataframe.DataFrame"
            ],
            "text/html": [
              "<div style=\"max-width:800px; border: 1px solid var(--colab-border-color);\"><style>\n",
              "      pre.function-repr-contents {\n",
              "        overflow-x: auto;\n",
              "        padding: 8px 12px;\n",
              "        max-height: 500px;\n",
              "      }\n",
              "\n",
              "      pre.function-repr-contents.function-repr-contents-collapsed {\n",
              "        cursor: pointer;\n",
              "        max-height: 100px;\n",
              "      }\n",
              "    </style>\n",
              "    <pre style=\"white-space: initial; background:\n",
              "         var(--colab-secondary-surface-color); padding: 8px 12px;\n",
              "         border-bottom: 1px solid var(--colab-border-color);\"><b>pyspark.sql.dataframe.DataFrame</b><br/>def __init__(jdf: JavaObject, sql_ctx: Union[&#x27;SQLContext&#x27;, &#x27;SparkSession&#x27;])</pre><pre class=\"function-repr-contents function-repr-contents-collapsed\" style=\"\"><a class=\"filepath\" style=\"display:none\" href=\"#\">/content/spark-3.5.4-bin-hadoop3/python/pyspark/sql/dataframe.py</a>A distributed collection of data grouped into named columns.\n",
              "\n",
              ".. versionadded:: 1.3.0\n",
              "\n",
              ".. versionchanged:: 3.4.0\n",
              "    Supports Spark Connect.\n",
              "\n",
              "Examples\n",
              "--------\n",
              "A :class:`DataFrame` is equivalent to a relational table in Spark SQL,\n",
              "and can be created using various functions in :class:`SparkSession`:\n",
              "\n",
              "&gt;&gt;&gt; people = spark.createDataFrame([\n",
              "...     {&quot;deptId&quot;: 1, &quot;age&quot;: 40, &quot;name&quot;: &quot;Hyukjin Kwon&quot;, &quot;gender&quot;: &quot;M&quot;, &quot;salary&quot;: 50},\n",
              "...     {&quot;deptId&quot;: 1, &quot;age&quot;: 50, &quot;name&quot;: &quot;Takuya Ueshin&quot;, &quot;gender&quot;: &quot;M&quot;, &quot;salary&quot;: 100},\n",
              "...     {&quot;deptId&quot;: 2, &quot;age&quot;: 60, &quot;name&quot;: &quot;Xinrong Meng&quot;, &quot;gender&quot;: &quot;F&quot;, &quot;salary&quot;: 150},\n",
              "...     {&quot;deptId&quot;: 3, &quot;age&quot;: 20, &quot;name&quot;: &quot;Haejoon Lee&quot;, &quot;gender&quot;: &quot;M&quot;, &quot;salary&quot;: 200}\n",
              "... ])\n",
              "\n",
              "Once created, it can be manipulated using the various domain-specific-language\n",
              "(DSL) functions defined in: :class:`DataFrame`, :class:`Column`.\n",
              "\n",
              "To select a column from the :class:`DataFrame`, use the apply method:\n",
              "\n",
              "&gt;&gt;&gt; age_col = people.age\n",
              "\n",
              "A more concrete example:\n",
              "\n",
              "&gt;&gt;&gt; # To create DataFrame using SparkSession\n",
              "... department = spark.createDataFrame([\n",
              "...     {&quot;id&quot;: 1, &quot;name&quot;: &quot;PySpark&quot;},\n",
              "...     {&quot;id&quot;: 2, &quot;name&quot;: &quot;ML&quot;},\n",
              "...     {&quot;id&quot;: 3, &quot;name&quot;: &quot;Spark SQL&quot;}\n",
              "... ])\n",
              "\n",
              "&gt;&gt;&gt; people.filter(people.age &gt; 30).join(\n",
              "...     department, people.deptId == department.id).groupBy(\n",
              "...     department.name, &quot;gender&quot;).agg({&quot;salary&quot;: &quot;avg&quot;, &quot;age&quot;: &quot;max&quot;}).show()\n",
              "+-------+------+-----------+--------+\n",
              "|   name|gender|avg(salary)|max(age)|\n",
              "+-------+------+-----------+--------+\n",
              "|     ML|     F|      150.0|      60|\n",
              "|PySpark|     M|       75.0|      50|\n",
              "+-------+------+-----------+--------+\n",
              "\n",
              "Notes\n",
              "-----\n",
              "A DataFrame should only be created as described above. It should not be directly\n",
              "created via using the constructor.</pre>\n",
              "      <script>\n",
              "      if (google.colab.kernel.accessAllowed && google.colab.files && google.colab.files.view) {\n",
              "        for (const element of document.querySelectorAll('.filepath')) {\n",
              "          element.style.display = 'block'\n",
              "          element.onclick = (event) => {\n",
              "            event.preventDefault();\n",
              "            event.stopPropagation();\n",
              "            google.colab.files.view(element.textContent, 80);\n",
              "          };\n",
              "        }\n",
              "      }\n",
              "      for (const element of document.querySelectorAll('.function-repr-contents')) {\n",
              "        element.onclick = (event) => {\n",
              "          event.preventDefault();\n",
              "          event.stopPropagation();\n",
              "          element.classList.toggle('function-repr-contents-collapsed');\n",
              "        };\n",
              "      }\n",
              "      </script>\n",
              "      </div>"
            ]
          },
          "metadata": {},
          "execution_count": 15
        }
      ]
    },
    {
      "cell_type": "code",
      "source": [
        "# First 3 rows\n",
        "df.head(3)"
      ],
      "metadata": {
        "colab": {
          "base_uri": "https://localhost:8080/"
        },
        "id": "jrHkR81QT9yB",
        "outputId": "d738a88a-b4a2-4196-f247-66cc7f32c06b"
      },
      "execution_count": null,
      "outputs": [
        {
          "output_type": "execute_result",
          "data": {
            "text/plain": [
              "[Row(_c0='talk__id', _c1='talk__name', _c2='talk__description', _c3='view_count', _c4='comment_count', _c5='duration', _c6='transcript', _c7='video_type_name', _c8='event', _c9='number_of__speakers', _c10='speaker__id', _c11='speaker__name', _c12='speaker__description', _c13='speaker__who_he_is', _c14='speaker__why_listen', _c15='speaker__what_others_say', _c16='speaker__is_published', _c17='all_speakers_details', _c18='is_talk_featured', _c19='has_talk_citation', _c20='recording_date', _c21='published_timestamp', _c22='talks__tags', _c23='number_of__tags', _c24='language', _c25='native_language', _c26='language_swap', _c27='is_subtitle_required', _c28='url__webpage', _c29='url__audio', _c30='url__video', _c31='url__photo__talk', _c32='url__photo__speaker', _c33='url__subtitled_videos', _c34='number_of__subtitled_videos', _c35='talk__download_languages', _c36='number_of__talk__download_languages', _c37='talk__more_resources', _c38='number_of__talk__more_resources', _c39='talk__recommendations__blurb', _c40='talk__recommendations', _c41='number_of__talk__recommendations', _c42='related_talks', _c43='number_of__related_talks', _c44='intro_duration', _c45='ad_duration', _c46='post_ad_duration', _c47='external__duration', _c48='external__start_time', _c49='talks__player_talks__resources__h264__00__bitrate', _c50='talks__take_action', _c51='number_of__talks__take_actions'),\n",
              " Row(_c0='66', _c1='Do schools kill creativity?', _c2='Sir Ken Robinson makes an entertaining and profoundly moving case for creating an education system that nurtures (rather than undermines) creativity.', _c3='65678748', _c4='4952.0', _c5='1164', _c6='\"Good morning. How are you?(Audience) Good.It\\'s been great, hasn\\'t it? I\\'ve been blown away by the whole thing. In fact, I\\'m leaving.(Laughter)There have been three themes running through the conference, which are relevant to what I want to talk about. One is the extraordinary evidence of human creativity in all of the presentations that we\\'ve had and in all of the people here; just the variety of it and the range of it. The second is that it\\'s put us in a place where we have no idea what\\'s going to happen in terms of the future. No idea how this may play out.I have an interest in education. Actually, what I find is, everybody has an interest in education. Don\\'t you? I find this very interesting. If you\\'re at a dinner party, and you say you work in education — actually, you\\'re not often at dinner parties, frankly.(Laughter)If you work in education, you\\'re not asked.(Laughter)And you\\'re never asked back, curiously. That\\'s strange to me. But if you are, and you say to somebody, you know, they say, \"\"What do you do?\"\" and you say you work in education', _c7=\" you can see the blood run from their face. They're like\", _c8=' \"\"Oh my God. Why me?\"\"(Laughter)\"\"My one night out all week.\"\"(Laughter)But if you ask about their education', _c9=' they pin you to the wall', _c10=\" because it's one of those things that goes deep with people\", _c11=' am I right? Like religion and money and other things. So I have a big interest in education', _c12=' and I think we all do. We have a huge vested interest in it', _c13=\" partly because it's education that's meant to take us into this future that we can't grasp. If you think of it\", _c14=' children starting school this year will be retiring in 2065. Nobody has a clue', _c15=\" despite all the expertise that's been on parade for the past four days\", _c16=\" what the world will look like in five years' time. And yet\", _c17=\" we're meant to be educating them for it. So the unpredictability\", _c18=' I think', _c19=\" is extraordinary.And the third part of this is that we've all agreed\", _c20=' nonetheless', _c21=' on the really extraordinary capacities that children have — their capacities for innovation. I mean', _c22=' Sirena last night was a marvel', _c23=\" wasn't she? Just seeing what she could do. And she's exceptional\", _c24=\" but I think she's not\", _c25=' so to speak', _c26=' exceptional in the whole of childhood. What you have there is a person of extraordinary dedication who found a talent. And my contention is', _c27=' all kids have tremendous talents', _c28=' and we squander them', _c29=' pretty ruthlessly.So I want to talk about education', _c30=' and I want to talk about creativity. My contention is that creativity now is as important in education as literacy', _c31=' and we should treat it with the same status.(Applause)Thank you.(Applause)That was it', _c32=' by the way. Thank you very much.(Laughter)So', _c33=' 15 minutes left.(Laughter)\"\"Well', _c34=' I was born ... \"\"(Laughter)I heard a great story recently — I love telling it — of a little girl who was in a drawing lesson. She was six', _c35=' and she was at the back', _c36=' drawing', _c37=' and the teacher said this girl hardly ever paid attention', _c38=' and in this drawing lesson', _c39=' she did. The teacher was fascinated. She went over to her', _c40=' and she said', _c41=' \"\"What are you drawing?\"\" And the girl said', _c42=' \"\"I\\'m drawing a picture of God.\"\" And the teacher said', _c43=' \"\"But nobody knows what God looks like.\"\" And the girl said', _c44=' \"\"They will in a minute.\"\"(Laughter)When my son was four in England — actually', _c45=' he was four everywhere', _c46=\" to be honest.(Laughter)If we're being strict about it\", _c47=' wherever he went', _c48=' he was four that year. He was in the Nativity play. Do you remember the story?(Laughter)No', _c49=' it was big', _c50=' it was a big story. Mel Gibson did the sequel', _c51=' you may have seen it.(Laughter)\"\"Nativity II.\"\" But James got the part of Joseph'),\n",
              " Row(_c0='2405', _c1='This is what happens when you reply to spam email', _c2='Suspicious emails: unclaimed insurance bonds, diamond-encrusted safe deposit boxes, close friends marooned in a foreign country. They pop up in our inboxes, and standard procedure is to delete on sight. But what happens when you reply? Follow along as writer and comedian James Veitch narrates a hilarious, weeks-long exchange with a spammer who offered to cut him in on a hot deal.', _c3='59725446', _c4='288.0', _c5='588', _c6='\"A few years ago, I got one of those spam emails. And it managed to get through my spam filter. I\\'m not quite sure how, but it turned up in my inbox, and it was from a guy called Solomon Odonkoh.(Laughter)I know.(Laughter)It went like this: it said, \"\"Hello James Veitch', _c7=' I have an interesting business proposal I want to share with you', _c8=' Solomon.\"\" Now', _c9=' my hand was kind of hovering on the delete button', _c10=' right? I was looking at my phone. I thought', _c11=\" I could just delete this. Or I could do what I think we've all always wanted to do.(Laughter)And I said\", _c12=' \"\"Solomon', _c13=' Your email intrigues me.\"\"(Laughter)(Applause)And the game was afoot.He said', _c14=' \"\"Dear James Veitch', _c15=' We shall be shipping Gold to you.\"\"(Laughter)\"\"You will earn 10% of any gold you distributes.\"\"(Laughter)So I knew I was dealing with a professional.(Laughter)I said', _c16=' \"\"How much is it worth?\"\"He said', _c17=' \"\"We will start with smaller quantity', _c18='\"\" — I was like', _c19=' aww — and then he said', _c20=' \"\"of 25 kgs.(Laughter)The worth should be about $2.5 million.\"\"I said', _c21=' \"\"Solomon', _c22=\" if we're going to do it\", _c23=' let\\'s go big.(Applause)I can handle it. How much gold do you have?\"\"(Laughter)He said', _c24=' \"\"It is not a matter of how much gold I have', _c25=' what matters is your capability of handling. We can start with 50 kgs as trial shipment.\"\"I said', _c26=' \"\"50 kgs? There\\'s no point doing this at all unless you\\'re shipping at least a metric ton.\"\"(Laughter)(Applause)He said', _c27=' \"\"What do you do for a living?\"\"(Laughter)I said', _c28=' \"\"I\\'m a hedge fund executive bank manager.\"\"(Laughter)This isn\\'t the first time I\\'ve shipped bullion', _c29=' my friend', _c30=' no no no.Then I started to panic. I was like', _c31=' \"\"Where are you based?\"\" I don\\'t know about you', _c32=\" but I think if we're going via the postal service\", _c33=' it ought to be signed for. That\\'s a lot of gold.\"\"He said', _c34=' \"\"It will not be easy to convince my company to do larger quantity shipment.\"\"I said', _c35=' \"\"Solomon', _c36=' I\\'m completely with you on this one. I\\'m putting together a visual for you to take into the board meeting. Hold tight.\"\"(Laughter)This is what I sent Solomon.(Laughter)(Applause)I don\\'t know if we have any statisticians in the house', _c37=\" but there's definitely something going on.(Laughter)I said\", _c38=' \"\"Solomon', _c39=' attached to this email you\\'ll find a helpful chart. I\\'ve had one of my assistants run the numbers.(Laughter)We\\'re ready for shipping as much gold as possible.\"\"There\\'s always a moment where they try to tug your heartstrings', _c40=' and this was it for Solomon. He said', _c41=' \"\"I will be so much happy if the deal goes well', _c42=' because I\\'m going to get a very good commission as well.\"\" And I said', _c43=' \"\"That\\'s amazing', _c44=' What are you going to spend your cut on?\"\" And he said', _c45=' \"\"On RealEstate', _c46=' what about you?\"\"I thought about it for a long time. And I said', _c47=' \"\"One word; Hummus.\"\"(Laughter)\"\"It\\'s going places.(Laughter)I was in Sainsbury\\'s the other day and there were like 30 different varieties. Also you can cut up carrots', _c48=' and you can dip them. Have you ever done that', _c49=' Solomon?\"\"(Laughter)He said', _c50=' \"\"I have to go bed now.\"\"(Laughter)(Applause)\"\"Till morrow. Have sweet dream.\"\"I didn\\'t know what to say! I said', _c51=' \"\"Bonsoir my golden nugget')]"
            ]
          },
          "metadata": {},
          "execution_count": 16
        }
      ]
    },
    {
      "cell_type": "code",
      "source": [
        "# Last 3 rows\n",
        "df.tail(3)"
      ],
      "metadata": {
        "colab": {
          "base_uri": "https://localhost:8080/"
        },
        "id": "oYazsSpyWWnu",
        "outputId": "8df7c597-65c2-4f99-acb0-8efda828fa01"
      },
      "execution_count": null,
      "outputs": [
        {
          "output_type": "execute_result",
          "data": {
            "text/plain": [
              "[Row(_c0='19784', _c1='Designing materials one atom at a time', _c2='The elements in the periodic table were created over billions of years and are rarely supplemented with new elements. Not for long. Sadasivan Shankar reveals that thanks to increasing computing power researchers are designing entirely new materials, one atom at a time, to have the specific properties needed for an infinite number of applications. ', _c3='0', _c4=None, _c5='609', _c6=None, _c7='TED Institute Talk', _c8='TED@Intel', _c9='1', _c10='4143.0', _c11='Sadasivan Shankar', _c12='Designer', _c13='Marathon runner and voracious reader, Sadasivan Shankar is the program leader for materialsdesign in Design and Technology Solutions within TMG. Using quantum and atomic techniques, Shankar and his team work closely with the process engineers in designing new materials with targeted functionalities for nanotechnologies. He has co-invented over 20 patent fillings and co-authored atleast 100 external publications, presentations and lectures.', _c14=None, _c15=None, _c16='0.0', _c17=\"[{'id': '4143', 'slug': 'sadasivan_shankar', 'is_published': False, 'firstname': 'Sadasivan', 'lastname': 'Shankar', 'middleinitial': '', 'title': '', 'description': 'Designer', 'photo_url': '', 'whatotherssay': '', 'whotheyare': 'Marathon runner and voracious reader, Sadasivan Shankar is the program leader for materialsdesign in Design and Technology Solutions within TMG. Using quantum and atomic techniques, Shankar and his team work closely with the process engineers in designing new materials with targeted functionalities for nanotechnologies. He has co-invented over 20 patent fillings and co-authored atleast 100 external publications, presentations and lectures.', 'whylisten': ''}]\", _c18='False', _c19=None, _c20='2013-03-27', _c21='2018-07-30 21:13:42', _c22=\"['computers', 'science', 'technology']\", _c23='3', _c24='en', _c25='en', _c26='False', _c27='False', _c28='https://www.ted.com/talks/sadasivan_shankar_designing_materials_one_atom_at_a_time', _c29=None, _c30=None, _c31='https://s3.amazonaws.com/talkstar-photos/uploads/db43cbe4-cbe9-45b1-81c2-ac152528ef85/SadasivanShankar_2013S-embed.jpg', _c32=None, _c33=None, _c34='0', _c35='[]', _c36='0', _c37=None, _c38='0', _c39=None, _c40=None, _c41='0', _c42=\"[{'id': '1322', 'hero': 'https://pe.tedcdn.com/images/ted/ffe032a2d557b859e57857bc66286ef1a74736f5_800x600.jpg', 'speaker': 'Drew Berry', 'title': 'Animations of unseeable biology', 'duration': 548, 'slug': 'drew_berry_animations_of_unseeable_biology', 'viewed_count': 2793083}, {'id': '12501', 'hero': 'https://s3.amazonaws.com/talkstar-photos/uploads/8d489ca8-fd85-49b7-8565-7e0633026515/VikramSharma_2017S-embed.jpg', 'speaker': 'Vikram Sharma', 'title': 'How quantum physics can make encryption stronger', 'duration': 713, 'slug': 'vikram_sharma_how_quantum_physics_can_make_encryption_stronger', 'viewed_count': 1193754}, {'id': '1939', 'hero': 'https://s3.amazonaws.com/talkstar-photos/uploads/baa31fdc-2ace-447b-8101-b9fbd2f4c240/MaryLouJepsen_2013-embed.jpg', 'speaker': 'Mary Lou Jepsen', 'title': 'Could future devices read images from our brains?', 'duration': 626, 'slug': 'mary_lou_jepsen_could_future_devices_read_images_from_our_brains', 'viewed_count': 1040433}]\", _c43='3', _c44='0.0', _c45='0.0', _c46='0.0', _c47='610.0', _c48='0.0', _c49='320.0', _c50=None, _c51='0'),\n",
              " Row(_c0='41912', _c1='Why student journalists should be protected from censorship', _c2='High school newspaper editors Neha Madhira and Haley Stack share how they fought back when their critical journalism faced the threat of censorship. Learn more about how their efforts expanded to lobbying for New Voices, a law which would extend First Amendment protections to student journalism, and which has now passed in multiple states.', _c3='0', _c4=None, _c5='442', _c6=None, _c7='TED Stage Talk', _c8='TEDWomen 2018', _c9='2', _c10='4982.0', _c11='Neha Madhira and Haley Stack', _c12='Journalist', _c13='Journalist Neha Madhira fights for press freedom for high school students.', _c14=\"Neha Madhira is 17 years old and a senior at Prosper High School in Texas. She was accidentally moved into journalism two years ago, and started competing in UIL Academic competitions because of the passion her former adviser, Lori Oglesbee, showed for writing. She won 19 journalism awards over two years, achieving All-State journalism both years and a National Quill and Scroll Gold Key last year.Currently, she is Editor-in-Chief of her high school’s paper, Eagle Nation Online. After her principal prior-reviewed and censored the paper, banned editorials and fired Ms. Oglesbee last year, Madhira spoke out, along with fellow journalist Haley Stack. For their advocacy, the two were nominated for the National Courage in Journalism award and honored by the Women's Media Center. Madhira is a student leader of the New Voices movement in Texas and speaks about the importance of students’ and teachers’ rights across the country.\\xa0\", _c15=None, _c16='0.0', _c17='\"[{\\'id\\': \\'4982\\', \\'slug\\': \\'neha_madhira\\', \\'is_published\\': False, \\'firstname\\': \\'Neha\\', \\'lastname\\': \\'Madhira\\', \\'middleinitial\\': \\'\\', \\'title\\': \\'\\', \\'description\\': \\'Journalist\\', \\'photo_url\\': \\'https://pe.tedcdn.com/images/ted/846a5824530c452877e8e8ca5d06de16a98bbca7_254x191.jpg\\', \\'whatotherssay\\': \\'\\', \\'whotheyare\\': \\'Journalist Neha Madhira fights for press freedom for high school students.\\', \\'whylisten\\': \\'<div>Neha Madhira is 17 years old and a senior at Prosper High School in Texas. She was accidentally moved into journalism two years ago, and started competing in UIL Academic competitions because of the passion her former adviser, Lori Oglesbee, showed for writing. She won 19 journalism awards over two years, achieving All-State journalism both years and a National Quill and Scroll Gold Key last year.</div><div><br /></div><div>Currently, she is Editor-in-Chief of her high school&rsquo;s paper, Eagle Nation Online. After her principal prior-reviewed and censored the paper, banned editorials and fired Ms. Oglesbee last year, Madhira spoke out, along with fellow journalist Haley Stack. For their advocacy, the two were nominated for the National Courage in Journalism award and honored by the Women&#39;s Media Center. Madhira is a student leader of the New Voices movement in Texas and speaks about the importance of students&rsquo; and teachers&rsquo; rights across the country.&nbsp;</div>\\'}, {\\'id\\': \\'4981\\', \\'slug\\': \\'haley_stack\\', \\'is_published\\': False, \\'firstname\\': \\'Haley\\', \\'lastname\\': \\'Stack\\', \\'middleinitial\\': \\'\\', \\'title\\': \\'\\', \\'description\\': \\'Journalist\\', \\'photo_url\\': \\'https://pe.tedcdn.com/images/ted/7d180a2b961fea847179c1fe06cb66d484d505be_254x191.jpg\\', \\'whatotherssay\\': \\'\\', \\'whotheyare\\': \\'Haley Stack fights for freedom of the press.\\', \\'whylisten\\': \\'<div>Haley Stack is 16 years old and a junior at Prosper High School in Texas. She is Assistant Editor of the school&rsquo;s newspaper, <em>Eagle Nation Online</em>. She started journalism her freshman year and has been on staff since. She&#39;s on the UIL Academic Journalism team and has won numerous awards, including an award for Excellence in Commentary Writing at the Journalism Educators Association. She was honored at the Women&#39;s Media Center gala in November 2018, where she won the Young Journalist award.&nbsp;</div><div><br /></div><div>In February 2018, Stack wrote an editorial over the removal of <em>A Separate Peace</em> by John Knowles from the 10th grade curriculum. The article was censored by her principal because he claimed Stack&rsquo;s story was negative, used the word &lsquo;banned&rsquo; instead of &lsquo;removed&rsquo;, and contained grammatical errors. (The errors were an extra period and a missing apostrophe.) This was one out of three articles that were censored at the paper leading to Stack, fellow student journalist Neha Madhira, and her staff speaking out with the help of the&nbsp;<a href=\"\"https://splc.org/2018/05/0522prosper-2/\"\" target=\"\"_blank\"\">Student Press Law Center</a>. Several news outlets covered their story', _c18=' including NBC 5', _c19='<em> The Dallas Morning News&nbsp;</em>and<em> The New York Times.&nbsp;</em></div><div><br /></div><div>Stack continues to fight for student press rights through New Voices', _c20=' a student-led legislative movement attempting to protect students from censorship and protect advisers from being pushed out. Stack hopes to continue her fight and further her journalistic education in college.</div><div><br /></div>\\'}]\"', _c21='False', _c22=None, _c23='2018-11-28', _c24='2019-05-28 21:05:49', _c25=\"['journalism', 'education', 'social change', 'society', 'law']\", _c26='5', _c27='en', _c28='en', _c29='False', _c30='False', _c31='https://www.ted.com/talks/neha_madhira_and_haley_stack_why_student_journalists_should_be_protected_from_censorship', _c32=None, _c33=\"{'low': 'https://download.ted.com/talks/NehaMadhiraandHaleyStack_2018W-light.mp4?apikey=acme-roadrunner', 'medium': 'https://download.ted.com/talks/NehaMadhiraandHaleyStack_2018W.mp4?apikey=acme-roadrunner', 'high': 'https://download.ted.com/talks/NehaMadhiraandHaleyStack_2018W-480p.mp4?apikey=acme-roadrunner'}\", _c34='https://s3.amazonaws.com/talkstar-photos/uploads/770baa79-c3bc-4320-8779-de98d6b3822f/NehaMadhiraandHaleyStack_2018W-embed.jpg', _c35='https://pe.tedcdn.com/images/ted/846a5824530c452877e8e8ca5d06de16a98bbca7_254x191.jpg', _c36=None, _c37='0', _c38='[]', _c39='0', _c40=None, _c41='0', _c42=None, _c43=None, _c44='0', _c45='\"[{\\'id\\': \\'2813\\', \\'hero\\': \\'https://s3.amazonaws.com/talkstar-photos/uploads/faff754f-f373-4ece-9538-70f8e408e69d/JorgeRamos_2017U-embed.jpg\\', \\'speaker\\': \\'Jorge Ramos\\', \\'title\\': \\'Why journalists have an obligation to challenge power\\', \\'duration\\': 870, \\'slug\\': \\'jorge_ramos_why_journalists_have_an_obligation_to_challenge_power\\', \\'viewed_count\\': 633914}, {\\'id\\': \\'2095\\', \\'hero\\': \\'https://pe.tedcdn.com/images/ted/a59b586ee1b4549d70bbbf9f6c7b11bcd24e6619_2400x1800.jpg\\', \\'speaker\\': \\'Eman Mohammed\\', \\'title\\': \\'The courage to tell a hidden story\\', \\'duration\\': 252, \\'slug\\': \\'eman_mohammed_the_courage_to_tell_a_hidden_story\\', \\'viewed_count\\': 1483967}, {\\'id\\': \\'22947\\', \\'hero\\': \\'https://s3.amazonaws.com/talkstar-photos/uploads/e6565bf4-3f60-4501-940c-d76501f929b8/KateStone_2018U-embed.jpg\\', \\'speaker\\': \\'Kate Stone\\', \\'title\\': \"\"The press trampled on my privacy. Here\\'s how I took back my story\"\"', _c46=\" 'duration': 378\", _c47=\" 'slug': 'kate_stone_the_press_trampled_on_my_privacy_here_s_how_i_took_back_my_story'\", _c48=' \\'viewed_count\\': 1440461}]\"', _c49='3', _c50='0.0', _c51='0.0'),\n",
              " Row(_c0='12818', _c1='A tribute to West Virginia coal miners', _c2='By day, Johnny Staats is a UPS package car driver. The rest of the time, he is a world-class bluegrass mandolin, guitar, and violin player. In this performance Staats, accompanied by Dave Vaugn on guitar, sings of the hardships faced by generations of coal miners working in West Virginia.', _c3='0', _c4=None, _c5='512', _c6=None, _c7='TED Institute Talk', _c8='TED@UPS', _c9='2', _c10='2600.0', _c11='Johnny Staats, Davey Vaughn', _c12='Bluegrass virtuoso', _c13='\"During the day, Johnny Staats is a UPS driver. At all other times, he is a world-class bluegrass mandolin, guitar and violin player. He has appeared on stage at the Grand Ole Opry five times and won Charleston’s Vandalia Gathering Mandolin Championships in 1996, 1997, and 1999 -- in 1997, he also won the guitar title and placed third in the fiddle competition. Staats\\'s most recent album, \"\"Time Moves On', _c14='\"\" with his band the Delivery Boys', _c15=' features contemporary bluegrass combined with country and blues influences.\"', _c16=None, _c17=None, _c18='0.0', _c19='\"[{\\'id\\': \\'2600\\', \\'slug\\': \\'johnny_staats\\', \\'is_published\\': False, \\'firstname\\': \\'Johnny\\', \\'lastname\\': \\'Staats\\', \\'middleinitial\\': \\'\\', \\'title\\': \\'\\', \\'description\\': \\'Bluegrass virtuoso\\', \\'photo_url\\': \\'https://pe.tedcdn.com/images/ted/c6c9cdf4f65b35e8cbc423d9180ca3c655914631_254x191.jpg\\', \\'whatotherssay\\': \\'\\', \\'whotheyare\\': \\'During the day, Johnny Staats is a UPS driver. At all other times, he is a world-class bluegrass mandolin, guitar and violin player. He has appeared on stage at the Grand Ole Opry five times and won Charleston’s Vandalia Gathering Mandolin Championships in 1996, 1997, and 1999 -- in 1997, he also won the guitar title and placed third in the fiddle competition. Staats\\\\\\'s most recent album, \"\"Time Moves On', _c20='\"\" with his band the Delivery Boys', _c21=\" features contemporary bluegrass combined with country and blues influences.'\", _c22=\" 'whylisten': ''}\", _c23=\" {'id': '3526'\", _c24=\" 'slug': 'davey_vaughn'\", _c25=\" 'is_published': False\", _c26=\" 'firstname': 'Davey'\", _c27=\" 'lastname': 'Vaughn'\", _c28=\" 'middleinitial': ''\", _c29=\" 'title': ''\", _c30=\" 'description': 'Musician'\", _c31=\" 'photo_url': 'https://pe.tedcdn.com/images/ted/f54f3a659abc50e62d66ed741ed2b2f517f08e8b_254x191.jpg'\", _c32=\" 'whatotherssay': ''\", _c33=\" 'whotheyare': 'Dave Vaughn plays guitar\", _c34=' bass', _c35=\" and mandolin spanning genres from country to bluegrass.'\", _c36=' \\'whylisten\\': \\'\\'}]\"', _c37='False', _c38=None, _c39='2017-07-20', _c40='2018-05-04 20:39:48', _c41=\"['music', 'performance', 'mining', 'singer']\", _c42='4', _c43='en', _c44='en', _c45='False', _c46='False', _c47='https://www.ted.com/talks/johnny_staats_davey_vaughn_a_tribute_to_west_virginia_coal_miners', _c48=None, _c49=None, _c50='https://s3.amazonaws.com/talkstar-photos/uploads/96104384-b46d-4d07-9bb7-ca6b941628b7/JohnnyStaats_2017S-embed.jpg', _c51='https://pe.tedcdn.com/images/ted/c6c9cdf4f65b35e8cbc423d9180ca3c655914631_254x191.jpg')]"
            ]
          },
          "metadata": {},
          "execution_count": 17
        }
      ]
    },
    {
      "cell_type": "code",
      "source": [
        "# Read the entire dataset\n",
        "df=spark.read.option('header','true').csv('/content/TED_Talk.csv', inferSchema=True)"
      ],
      "metadata": {
        "id": "Zgn50dHlZxiU"
      },
      "execution_count": null,
      "outputs": []
    },
    {
      "cell_type": "code",
      "source": [
        "df.printSchema()"
      ],
      "metadata": {
        "colab": {
          "base_uri": "https://localhost:8080/"
        },
        "id": "RM6CHN2fdEBx",
        "outputId": "92a8073c-df04-4349-d91a-86f9d9aae9d2"
      },
      "execution_count": null,
      "outputs": [
        {
          "output_type": "stream",
          "name": "stdout",
          "text": [
            "root\n",
            " |-- talk__id: string (nullable = true)\n",
            " |-- talk__name: string (nullable = true)\n",
            " |-- talk__description: string (nullable = true)\n",
            " |-- view_count: string (nullable = true)\n",
            " |-- comment_count: string (nullable = true)\n",
            " |-- duration: string (nullable = true)\n",
            " |-- transcript: string (nullable = true)\n",
            " |-- video_type_name: string (nullable = true)\n",
            " |-- event: string (nullable = true)\n",
            " |-- number_of__speakers: string (nullable = true)\n",
            " |-- speaker__id: string (nullable = true)\n",
            " |-- speaker__name: string (nullable = true)\n",
            " |-- speaker__description: string (nullable = true)\n",
            " |-- speaker__who_he_is: string (nullable = true)\n",
            " |-- speaker__why_listen: string (nullable = true)\n",
            " |-- speaker__what_others_say: string (nullable = true)\n",
            " |-- speaker__is_published: string (nullable = true)\n",
            " |-- all_speakers_details: string (nullable = true)\n",
            " |-- is_talk_featured: string (nullable = true)\n",
            " |-- has_talk_citation: string (nullable = true)\n",
            " |-- recording_date: string (nullable = true)\n",
            " |-- published_timestamp: string (nullable = true)\n",
            " |-- talks__tags: string (nullable = true)\n",
            " |-- number_of__tags: string (nullable = true)\n",
            " |-- language: string (nullable = true)\n",
            " |-- native_language: string (nullable = true)\n",
            " |-- language_swap: string (nullable = true)\n",
            " |-- is_subtitle_required: string (nullable = true)\n",
            " |-- url__webpage: string (nullable = true)\n",
            " |-- url__audio: string (nullable = true)\n",
            " |-- url__video: string (nullable = true)\n",
            " |-- url__photo__talk: string (nullable = true)\n",
            " |-- url__photo__speaker: string (nullable = true)\n",
            " |-- url__subtitled_videos: string (nullable = true)\n",
            " |-- number_of__subtitled_videos: string (nullable = true)\n",
            " |-- talk__download_languages: string (nullable = true)\n",
            " |-- number_of__talk__download_languages: string (nullable = true)\n",
            " |-- talk__more_resources: string (nullable = true)\n",
            " |-- number_of__talk__more_resources: string (nullable = true)\n",
            " |-- talk__recommendations__blurb: string (nullable = true)\n",
            " |-- talk__recommendations: string (nullable = true)\n",
            " |-- number_of__talk__recommendations: string (nullable = true)\n",
            " |-- related_talks: string (nullable = true)\n",
            " |-- number_of__related_talks: string (nullable = true)\n",
            " |-- intro_duration: string (nullable = true)\n",
            " |-- ad_duration: string (nullable = true)\n",
            " |-- post_ad_duration: string (nullable = true)\n",
            " |-- external__duration: string (nullable = true)\n",
            " |-- external__start_time: string (nullable = true)\n",
            " |-- talks__player_talks__resources__h264__00__bitrate: string (nullable = true)\n",
            " |-- talks__take_action: string (nullable = true)\n",
            " |-- number_of__talks__take_actions: string (nullable = true)\n",
            "\n"
          ]
        }
      ]
    },
    {
      "cell_type": "code",
      "source": [
        "df=spark.read.csv('/content/TED_Talk.csv', header=True, inferSchema=True)\n",
        "df.show()"
      ],
      "metadata": {
        "colab": {
          "base_uri": "https://localhost:8080/"
        },
        "id": "5kp4mFD2dD-O",
        "outputId": "108927b8-92af-435d-c170-f89c50084236"
      },
      "execution_count": null,
      "outputs": [
        {
          "output_type": "stream",
          "name": "stdout",
          "text": [
            "+--------+--------------------+--------------------+--------------------+--------------------+--------------------+--------------------+--------------------+--------------------+--------------------+--------------------+--------------------+--------------------+--------------------+--------------------+------------------------+---------------------+--------------------+--------------------+--------------------+--------------------+--------------------+--------------------+--------------------+--------------------+--------------------+--------------------+--------------------+--------------------+--------------------+--------------------+--------------------+--------------------+---------------------+---------------------------+------------------------+-----------------------------------+--------------------+-------------------------------+----------------------------+---------------------+--------------------------------+--------------------+------------------------+--------------------+--------------------+--------------------+--------------------+--------------------+-------------------------------------------------+--------------------+------------------------------+\n",
            "|talk__id|          talk__name|   talk__description|          view_count|       comment_count|            duration|          transcript|     video_type_name|               event| number_of__speakers|         speaker__id|       speaker__name|speaker__description|  speaker__who_he_is| speaker__why_listen|speaker__what_others_say|speaker__is_published|all_speakers_details|    is_talk_featured|   has_talk_citation|      recording_date| published_timestamp|         talks__tags|     number_of__tags|            language|     native_language|       language_swap|is_subtitle_required|        url__webpage|          url__audio|          url__video|    url__photo__talk| url__photo__speaker|url__subtitled_videos|number_of__subtitled_videos|talk__download_languages|number_of__talk__download_languages|talk__more_resources|number_of__talk__more_resources|talk__recommendations__blurb|talk__recommendations|number_of__talk__recommendations|       related_talks|number_of__related_talks|      intro_duration|         ad_duration|    post_ad_duration|  external__duration|external__start_time|talks__player_talks__resources__h264__00__bitrate|  talks__take_action|number_of__talks__take_actions|\n",
            "+--------+--------------------+--------------------+--------------------+--------------------+--------------------+--------------------+--------------------+--------------------+--------------------+--------------------+--------------------+--------------------+--------------------+--------------------+------------------------+---------------------+--------------------+--------------------+--------------------+--------------------+--------------------+--------------------+--------------------+--------------------+--------------------+--------------------+--------------------+--------------------+--------------------+--------------------+--------------------+--------------------+---------------------+---------------------------+------------------------+-----------------------------------+--------------------+-------------------------------+----------------------------+---------------------+--------------------------------+--------------------+------------------------+--------------------+--------------------+--------------------+--------------------+--------------------+-------------------------------------------------+--------------------+------------------------------+\n",
            "|      66|Do schools kill c...|Sir Ken Robinson ...|            65678748|              4952.0|                1164|\"Good morning. Ho...| you can see the ...| \"\"Oh my God. Why...| they pin you to ...| because it's one...| am I right? Like...| and I think we a...| partly because i...| children startin...|     despite all the ...|  what the world w...| we're meant to b...|             I think| is extraordinary...|         nonetheless| on the really ex...| Sirena last nigh...| wasn't she? Just...| but I think she'...|         so to speak| exceptional in t...| all kids have tr...| and we squander ...| pretty ruthlessl...| and I want to ta...| and we should tr...| by the way. Than...|  15 minutes left....|        I was born ... \"...|     and she was at t...|                            drawing| and the teacher ...|            and in this draw...|         she did. The tea...|         and she said|             \"\"What are you d...| \"\"I'm drawing a ...|     \"\"But nobody kno...| \"\"They will in a...| he was four ever...| to be honest.(La...|    wherever he went| he was four that...|                                       it was big| it was a big sto...|           you may have see...|\n",
            "|    2405|This is what happ...|Suspicious emails...|            59725446|               288.0|                 588|\"A few years ago,...| I have an intere...|      Solomon.\"\" Now| my hand was kind...| right? I was loo...| I could just del...|           \"\"Solomon| Your email intri...| \"\"Dear James Veitch|     We shall be ship...|  \"\"How much is it...| \"\"We will start ...|     \"\" — I was like| aww — and then h...| \"\"of 25 kgs.(Lau...|           \"\"Solomon| if we're going t...| let's go big.(Ap...| \"\"It is not a ma...| what matters is ...| \"\"50 kgs? There'...| \"\"What do you do...| \"\"I'm a hedge fu...|           my friend| no no no.Then I ...| \"\"Where are you ...| but I think if w...|  it ought to be s...|        \"\"It will not be...|               \"\"Solomon|                I'm completely w...| but there's defi...|                      \"\"Solomon|         attached to this...|  and this was it ...|             \"\"I will be so m...| because I'm goin...|        \"\"That's amazing| What are you goi...|     \"\"On RealEstate| what about you?\"...| \"\"One word; Humm...| and you can dip ...|                              Solomon?\"\"(Laugh...| \"\"I have to go b...|           \"\"Bonsoir my gol...|\n",
            "|    1569|Your body languag...|\"(NOTE: Some of t...| but it may also ...| even when we don...| and might have a...|            57734063|              2649.0|                1262|\"So I want to sta...|          \"\" you say| \"\"I want you to ...| and it's going t...| and these people...|     for two minutes|     either high-powe...|  and I'm just goi...| although they to...| you're making yo...| you're really pr...| they spit into a...|     for two minutes|              we say| \"\"You need to do...| \"\"How powerful d...| and then we give...| and then we take...| which is the gam...| we find that whe...| 86 percent of yo...|     only 60 percent| and that's a who...| high-power peopl...|  and low-power pe...|                two minutes|     and you get thes...|                and the low-powe...| confident and co...|            or really stress...|         and feeling sort...|  right? So it see...|             so it's not just...| but it's also ou...|     our bodies chang...|           of course|                  is| can power posing...| it's this little...| it's just a coup...|                              of course. And s...| like social thre...|           either by your f...|\n",
            "|     848|How great leaders...|\"Simon Sinek has ...| Martin Luther Ki...|            50494918|              2093.0|                1084|\"How do you expla...|\"\" I mean: What's...|    the way we think|              we act| the way we commu...| it's obvious. We...| regardless of th...| act and communic...|     a marketing mess...|  simple to use an...| that's how we co...| we say how we're...|          a purchase|              a vote| something like t...| we always perfor...| it has leather s...| we believe in ch...| simple to use an...| right? You're re...| or a phone from ...| or a DVR from Ap...| Apple's just a c...| they tried. A fe...| Gateway came out...| and they make gr...|  and they can mak...|        talking about it...|     we can't even im...|                biology. If you ...|   from the top down|            the human brain ...|         our Homo sapien ...|        our neocortex|             corresponds with...| and our limbic b...|     like trust and l...| all decision-making| and it has no ca...| when we communic...|                 yes| people can under...|                              we're talking di...| and then we allo...|                  and they say|\n",
            "|    1042|The power of vuln...|Brené Brown studi...|            48503432|              2234.0|                1219|\"So, I'll start w...|              \"\"Well| what's the strug...|              \"\"Well|     I saw you speak| and I'm going to...|             I think| but I'm afraid i...|    no one will come|     because they'll ...|  \"\"Okay.\"\" And sh...| \"\"But the thing ...|        the academic| insecure part of...| \"\"You're going t...| \"\"I'm going to c...| \"\"Why not 'magic...| \"\"Let me think a...|            you know| I am a storytell...| \"\"You know what?...| \"\"Ha ha. There's...| and I'm going to...|    doctoral student|       my first year| I had a research...|  \"\"Here's the thing|  if you cannot me...|        it does not exis...|     \"\"Really?\"\" and ...|                \"\"Absolutely.\"\" ...| and I was gettin...|            so my entire aca...|         love it.\"\" And I...|       \"\"life's messy|                     clean it up| organize it and ...|     to found a caree...| one of the big s...| \"\"Lean into the ...| knock discomfort...|       you know what| this is the care...|                              because I am int...| by the time you'...|           what you realize...|\n",
            "|    2034|How to speak so t...|Have you ever fel...|            42330489|               411.0|                 598|\"The human voice:...| people don't lis...| there are a numb...|     but these seven|             I think| are pretty large...| gossip. Speaking...| and we know perf...|  five minutes later|     will be gossipin...|  judging. We know...| and it's very ha...| negativity. You ...| in the last year...| became very nega...| and it's hard to...|       I said to her| \"\"It's October 1...|     \"\" and she said|            \"\"I know| isn't it dreadfu...|   complaining. Well| this is the nati...|               sport|      about politics|    about everything|        but actually|  complaining is v...|                  and again|     hard to listen t...|                the sixth of the...|          embroidery|            exaggeration. It...|                    actually|  sometimes. For e...|             if I see somethi...| what do I call i...|               of course| this exaggeratio...| and we don't wan...| dogmatism. The c...| you're listening...| somebody is bomb...|                              seven deadly sin...| there is. I'd li...|                   foundations|\n",
            "|    2458|Inside the mind o...|Tim Urban knows t...|            39714672|               579.0|                 843|\"So in college, I...| \"\"Yeah.\"\" And th...| \"\"We need to tal...| \"\"OK.\"\" And they...| \"\"It's the best ...| very bad thesis....| \"\"This guy is am...|                  no|         it was very|        very bad. Anyway|  today I'm a writ...| I decided to wri...| and I wanted to ...| and why we are t...| I had a hypothes...| I found an MRI l...| so I could compa...| it's not that ob...| but just take a ...| OK? So here's th...| but the procrast...| what does this m...| it means everyth...| but the Monkey d...| so he actually t...|         and he says|          \"\"Actually|  let's read the e...|        because I just r...|     to see if there'...|                we're going to g...| much later with ...|            so we're not goi...|         what is going on...|  no knowledge of ...|             and he only care...| in the animal world|     that works fine....| you're a huge su...| humans are just ...| well-fed and pro...| which in tribal ...| if you haven't n...|                              now we're not in...| and the Monkey d...|           the Rational Dec...|\n",
            "|    2225|The next outbreak...|\"In 2014, the wor...|            35814459|               494.0|                 512|When I was a kid,...|      TED Stage Talk|             TED2015|                   1|               339.0|          Bill Gates|Technologist, phi...|A passionate tech...|Bill Gates is coc...|                    NULL|                  1.0|\"[{'id': '339', '...| Bill Gates chang...| 'whylisten': '<p...| he founded Micro...| tech visionary a...| Gates led the co...| Gates transition...| he leads the fou...| the foundation h...|           libraries| agriculture rese...| the Gateses foun...| an effort to enc...| Gates created th...| a group of indiv...| followed by Brea...|  an investor-led ...|       &nbsp;<a href=\"\"h...|     and read a colle...|                where they take ...|                True|                            0.0|                  2015-03-18|  2015-04-03 14:58:45|            ['disaster relief...|                   6|                      en|                  en|               False|               False|https://www.ted.c...|https://download....|                             {'low': 'https://...|https://pe.tedcdn...|          https://pe.tedcdn...|\n",
            "|   13587|My philosophy for...|Born with a rare ...|            34858496|                NULL|                 765|\"Hello everyone. ...| with a lot of th...| I don't want peo...| and I'm able to ...| to share with yo...|              for me| there are 3 aspe...| \"\"Isn’t it hard ...| even though I ha...|     most of my time ...|  or go on an inte...| I know what I’m ...| I choose to focu...|       like scouting|            or music|      or comic books| or any of my fav...| so — (Laughter) ...| sometimes I need...| and I want to pu...|           all right| so — That was pr...| and so I was abl...| as I believe I c...| you can accompli...| with this outloo...| people of high q...|  who have always ...|        a lot of us are ...|     but we really en...|                and we help each...| and we can now m...|            as a single coll...|         is that the musi...|              is true|                      is genuine| and it supersede...|     going on TV a co...| I feel like I’m ...| as I hope I can ...| is that I hope y...|   love your friends|        for you guys|                              love you Bro’s a...|  and your community|           because they are...|\n",
            "|    1647|Looks aren't ever...|\"Cameron Russell ...| pretty and an un...| she takes a wry ...|            34572281|               926.0|                 577|\"Hi. My name is C...|       I was scouted|\"\" but that means...| and I am the rec...| and maybe you're...| for the past few...|    but also as tall|         slender figures|  and femininity a...| and it's a legac...| and maybe there ...| \"\"Wait. Naomi. T...| I commend you on...| I have to inform...| a very inspired ...| every single one...| and of the 677 m...|             only 27| or less than fou...| were non-white.T...| \"\"Can I be a mod...|      \"\"I don't know| they don't put m...| and what I reall...| \"\"Why? You know?...|  or the inventor ...|        or a ninja cardi...|     which would be a...|                because you'd be...| after this amazi...|            they still are like|                        \"\"No|                   no|                         Cameron| I want to be a m...|                 \"\" well|          then I say| \"\"Be my boss.\"\" ...| and you could be...| or the next Stev...|    and it's awesome|                              and it's not a c...| because unlike c...|           it can just be d...|\n",
            "|    2399|What makes a good...|What keeps us hap...|            33478530|               920.0|                 766|\"What keeps us he...| we don't just se...| we scan their br...| we talk to their...|  about a decade ago| we finally asked...| many of the wome...|          \"\"You know| it's about time....|     the lessons aren...|  and that lonelin...|          to friends|        to community|         are happier| they're physical...| and they live lo...| their health dec...| their brain func...| more than one in...| so the second bi...| and it's not whe...| but it's the qua...|         for example| without much aff...| turn out to be v...| perhaps worse th...| warm relationshi...|  we wanted to loo...|        healthy octogena...|     it wasn't their ...|                close relationsh...|        in their 80s|            that on the days...|         their mood staye...|  on the days when...|             it was magnified...| they protect our...|     that the people ...| those people's m...| those are the pe...| they don't have ...| but as long as t...| those arguments ...|                                        that good| close relationsh...|           this is wisdom t...|\n",
            "|   13589|Why people believ...|Most people think...|            32441676|                NULL|                 904|\"Hi. I've got a q...| or you can't.\"\" ...| I think it's mor...| that's just an i...| and today I'd li...| I'm not saying w...| by the end of th...| you could draw p...| yes! (Laughter) ...|     there are only t...|  just be prepared...| so here's how it...| so just watch to...|            you draw| and when you've ...|             look up| and I'll know yo...| here we go. Star...|     the mouth. Nice|      big smile. Now|           over here|       the ear. Next| some spiky hair....| put the pen to t...| little line like...| drop a line like...| top of the T-shi...|  line to the righ...|              fantastic. So|     it looks like yo...|                but you've actua...| because we're ju...|                 under the hair|         little V-shape f...|     line to the left|             line to the righ...| we've got Spike ...|     two circles toge...| two little dots ...|        the ear. Now| we'll have some ...| watch. Nice curl...| little line like...|                              drop a line. Top...| line to the righ...|           so we've got the...|\n",
            "|     549|10 things you did...|\"\"\"Bonk\"\" author ...| some of it centu...| to make 10 surpr...| ranging from the...|            31285464|               406.0|                1003|\"Alright. I'm goi...| in the words of ...| \"\"The hand grasp...| so it would have...| this is the part...|      like digestion|     heart rate and s...|  Kinsey interview...|    like paraplegias|       quadriplegias| will often devel...| very sensitive a...| wherever that is...| who was fascinat...| but no — it happ...| to see if that w...|            you know| motion. And the ...| I interviewed a ...| in a sushi resta...|                \"\"So| could you do it ...|              \"\"Yeah| but you know I'd...|  she was kind eno...|        \"\"Are you just d...|          \"\"No. Honestly|                    when I get home| I'm usually too ...|            along the spinal...|         is something cal...|  which is back he...|             if you stimulate...|    the precise spot|     you will trigger...| a beating-heart ...|        legally dead| definitely check...| but is being kep...| so that their or...|                              if you trigger t...| you will see som...|           not being dead. ...|\n",
            "|    1792|The orchestra in ...|In a highly enter...|            29331917|               191.0|                 701|\"My name is Tom, ...| TEDx. If you guy...|  my name's Tom Thum| and I'm a beatboxer| which means all ...| and the only thi...| very stoked — (A...| Mom! I made it! ...| very stoked to b...|     representing my ...|  and there's not ...| especially where...|   I'm from Brisbane| which is a great...|     I'm from Brizzy| which is a great...| but let's be hon...| and so the pursu...|            if I may| my experiences. ...| I would like to ...|               party| yeah. (Laughter)...| ladies and gentl...| I would like to ...| and they allow m...| the one on the l...|  which gives me t...|        I can use them i...|     the one on my ri...|                ladies and gentl...| I would like to ...|            take it away. (M...|         I'd like to intr...|  one of the great...|             let's take it fo...| baby. (Music) Al...|     ladies and gentl...| I'd like to intr...| one of the great...| please give a wa...|           TEDx Talk|          TEDxSydney|                                                1|              1664.0|                      Tom Thum|\n",
            "|    1246|  How to spot a liar|\"On any given day...|            29092750|               660.0|                1130|\"Okay, now I don'...|\"\" no one wants t...|                  no|                  no|                  no|                  no|        no. They say|         \"\"It's okay| we'll email you....|                 \"\"Honey|  deception? Maybe...| what I'm going t...| which is not to ...| those kids in th...| \"\"Gotcha! Gotcha...| liespotters are ...| and they do what...| sometimes during...| and that proposi...| a lie has no pow...|            but look| if at some point...| it's because you...| maybe to keep a ...|      secret. We say| \"\"Nice song.\"\" \"...| you don't look f...|      no.\"\" Or we say|        favorite of the ...|              \"\"You know|                I just fished th...|              Madoff|            the mortgage cri...|         like Robert Hans...|  lies can betray ...|             they can comprom...| they can undermi...|     they can cause t...|    Henry Oberlander| he was such an e...| British authorit...| and he said the ...|              \"\"Look|                              I've got one rul...|             he said|                        \"\"Look|\n",
            "|    1821|The art of misdir...|Hailed as the gre...|            27705296|               310.0|                 527|Do you think it's...|      TED Stage Talk|      TEDGlobal 2013|                   1|              1616.0|      Apollo Robbins|     Gentleman thief|Apollo Robbins wi...|\"Pickpocketing is...|     as he told the  ...|  is “stepping out...| thinking through...| but it’s happeni...| speaker and tele...| and he also is t...| a collective of ...|In magic circles,...|                 1.0|\"[{'id': '1616', ...| Robbins is regar...| though he largel...| as the magician ...| 'the best-kept s...| 'whotheyare': 'A...| then hand them b...| 'whylisten': '<p...| while the other ...|  and the next thi...|        possessor of a s...|     a taste for clas...|                and something he...| as he told <a hr...|           </em> is &ldquo;s...|         thinking through...|  but it&rsquo;s h...|             speaker and tele...| and he also is t...|     a collective of ...|                True|                NULL|          2013-06-12| 2013-09-13 15:02:39|['crime', 'entert...|                                                2|                  en|                            en|\n",
            "|     229|My stroke of insight|Jill Bolte Taylor...|            26728715|              2986.0|                1099|\"I grew up to stu...| as compared with...| schizoaffective ...| with which chemi...| and then in what...| but then in the ...| I traveled as an...| the National All...|                1996|     I woke up to dis...|  I watched my bra...|    I could not walk|                talk|                read| write or recall ...| it's obvious tha...| laughter)So this...| the back of brai...| and this is how ...| it's obvious tha...| our right hemisp...| while our left h...| which is made up...| the two hemisphe...| each of our hemi...| they care about ...|                 and|           dare I say|        they have very d...|     right now.\"\" Our...|                it thinks in pic...| in the form of e...|            streams in simul...|         what this presen...|  what it feels li...|                       right now| we are brothers ...|     here to make the...| we are whole and...| our left hemisphere| is a very differ...| and more details...| associates it wi...|                              and projects int...|               \"\"Hey|           you've got to re...|\n",
            "|     741|How I held my bre...|In this highly pe...|            26510997|               331.0|                1219|\"As a magician, I...|             \"\"David|   you're a magician| create the illus...| it will be much ...| he came up with ...| with a CO2 scrubber| which was basica...| with a balloon d...|     that he thought ...|  and somehow be a...| that clearly was...| I got my hands o...| filled the sink ...| and stuck my fac...| which was really...|    as a doctor said| while having an ...| that idea disapp...| would it be poss...| and then appear ...| obviously.Then I...| I started resear...| because they go ...| I found the worl...| pretty much. The...| where people go ...|  you should never...|        and it builds up...|     I learned never ...|                and just control...| you get lightheaded|            you get tingling...|         when you hold yo...|  it's infinitely ...|             and just hold an...| and just hold an...|      this is for months| I would wake up ...|   out of 52 minutes| I would hold my ...| basically what t...| I'd breathe real...|                                immediately after| for five and a h...|           purging as hard ...|\n",
            "|    1377|The power of intr...|In a culture wher...|            26452711|              1320.0|                1144|\"When I was nine ...| that's the way w...|              rowdie| let's get rowdie...| or why we had to...| the coolest girl...| \"\"Why are you be...|           of course| being the exact ...|     the counselor ca...|  back in their su...| and I put them u...| and there they s...| and they were ca...| I tell you this ...| that I should be...| and so I became ...|       of all things| instead of the w...| that I wasn't ev...| and it's our los...| but it is also o...| it is the world'...| we need introver...| I'm talking abou...| to see the bias ...| you need to unde...|  how do you respo...|        including social...|     whereas introver...|                more low-key env...| our schools and ...|            they are designe...|         which holds that...|  we sat in rows. ...|             and we did most ...| your typical cla...|     which you think ...| kids are now exp...| those kids are s...|               worse| as problem cases...| even though intr...|                              according to res...| same thing is tr...|           most of us work ...|\n",
            "|     618|The puzzle of mot...|Career analyst Da...|            25890983|              1165.0|                1116|\"I need to make a...| melt the side of...| try to adhere it...| after five or te...| most people figu...| which you can se...| as a platform fo...| done by a scient...| who is now at Pr...|                      US|  This shows the p...| how quickly you ...| \"\"I'm going to t...| averages for how...| \"\"If you're in t...| you get five dol...| you get 20 dolla...| adjusted for inf...| it's a decent su...|          on average| three and a half...|       right? I mean| I'm an American....| right?(Laughter)...| you reward them....|         commissions| their own realit...|  and it does just...|        then you get tha...|     they actually ei...|                              often| they do harm. Th...|            and also one of ...|         particularly the...|  it's not even cl...|             there is a misma...| how we motivate ...|     how we apply our...| around carrots a...|    that mechanistic| reward-and-punis...|  often doesn't work| and often does h...|                              he presented the...| like this up her...|           the incentivized...|\n",
            "+--------+--------------------+--------------------+--------------------+--------------------+--------------------+--------------------+--------------------+--------------------+--------------------+--------------------+--------------------+--------------------+--------------------+--------------------+------------------------+---------------------+--------------------+--------------------+--------------------+--------------------+--------------------+--------------------+--------------------+--------------------+--------------------+--------------------+--------------------+--------------------+--------------------+--------------------+--------------------+--------------------+---------------------+---------------------------+------------------------+-----------------------------------+--------------------+-------------------------------+----------------------------+---------------------+--------------------------------+--------------------+------------------------+--------------------+--------------------+--------------------+--------------------+--------------------+-------------------------------------------------+--------------------+------------------------------+\n",
            "only showing top 20 rows\n",
            "\n"
          ]
        }
      ]
    },
    {
      "cell_type": "code",
      "source": [],
      "metadata": {
        "id": "kMKnLVn3dD76"
      },
      "execution_count": null,
      "outputs": []
    },
    {
      "cell_type": "code",
      "source": [
        "# Get column names\n",
        "df.columns"
      ],
      "metadata": {
        "colab": {
          "base_uri": "https://localhost:8080/"
        },
        "id": "uT41wie2Zxe7",
        "outputId": "3c381b62-c0e9-489c-8f01-4c377c103c8f"
      },
      "execution_count": null,
      "outputs": [
        {
          "output_type": "execute_result",
          "data": {
            "text/plain": [
              "['talk__id',\n",
              " 'talk__name',\n",
              " 'talk__description',\n",
              " 'view_count',\n",
              " 'comment_count',\n",
              " 'duration',\n",
              " 'transcript',\n",
              " 'video_type_name',\n",
              " 'event',\n",
              " 'number_of__speakers',\n",
              " 'speaker__id',\n",
              " 'speaker__name',\n",
              " 'speaker__description',\n",
              " 'speaker__who_he_is',\n",
              " 'speaker__why_listen',\n",
              " 'speaker__what_others_say',\n",
              " 'speaker__is_published',\n",
              " 'all_speakers_details',\n",
              " 'is_talk_featured',\n",
              " 'has_talk_citation',\n",
              " 'recording_date',\n",
              " 'published_timestamp',\n",
              " 'talks__tags',\n",
              " 'number_of__tags',\n",
              " 'language',\n",
              " 'native_language',\n",
              " 'language_swap',\n",
              " 'is_subtitle_required',\n",
              " 'url__webpage',\n",
              " 'url__audio',\n",
              " 'url__video',\n",
              " 'url__photo__talk',\n",
              " 'url__photo__speaker',\n",
              " 'url__subtitled_videos',\n",
              " 'number_of__subtitled_videos',\n",
              " 'talk__download_languages',\n",
              " 'number_of__talk__download_languages',\n",
              " 'talk__more_resources',\n",
              " 'number_of__talk__more_resources',\n",
              " 'talk__recommendations__blurb',\n",
              " 'talk__recommendations',\n",
              " 'number_of__talk__recommendations',\n",
              " 'related_talks',\n",
              " 'number_of__related_talks',\n",
              " 'intro_duration',\n",
              " 'ad_duration',\n",
              " 'post_ad_duration',\n",
              " 'external__duration',\n",
              " 'external__start_time',\n",
              " 'talks__player_talks__resources__h264__00__bitrate',\n",
              " 'talks__take_action',\n",
              " 'number_of__talks__take_actions']"
            ]
          },
          "metadata": {},
          "execution_count": 29
        }
      ]
    },
    {
      "cell_type": "code",
      "source": [
        "df.describe().show()"
      ],
      "metadata": {
        "colab": {
          "base_uri": "https://localhost:8080/"
        },
        "id": "0CCD-p1BZww4",
        "outputId": "bb3d53d7-e301-4ea0-8561-7a52916f4b28"
      },
      "execution_count": null,
      "outputs": [
        {
          "output_type": "stream",
          "name": "stdout",
          "text": [
            "+-------+-------------------------------------+--------------------+--------------------+--------------------+--------------------+--------------------+--------------------+--------------------+--------------------+--------------------+--------------------+--------------------+--------------------+------------------------------+--------------------+------------------------+---------------------+--------------------+--------------------+--------------------+--------------------+--------------------+--------------------+--------------------+--------------------+--------------------+--------------------+--------------------+--------------------+--------------------+--------------------+--------------------+--------------------+---------------------+---------------------------+------------------------+-----------------------------------+--------------------+-------------------------------+----------------------------+---------------------+--------------------------------+--------------------+------------------------+--------------------+--------------------+--------------------+--------------------+--------------------+-------------------------------------------------+--------------------+------------------------------+\n",
            "|summary|                             talk__id|          talk__name|   talk__description|          view_count|       comment_count|            duration|          transcript|     video_type_name|               event| number_of__speakers|         speaker__id|       speaker__name|speaker__description|            speaker__who_he_is| speaker__why_listen|speaker__what_others_say|speaker__is_published|all_speakers_details|    is_talk_featured|   has_talk_citation|      recording_date| published_timestamp|         talks__tags|     number_of__tags|            language|     native_language|       language_swap|is_subtitle_required|        url__webpage|          url__audio|          url__video|    url__photo__talk| url__photo__speaker|url__subtitled_videos|number_of__subtitled_videos|talk__download_languages|number_of__talk__download_languages|talk__more_resources|number_of__talk__more_resources|talk__recommendations__blurb|talk__recommendations|number_of__talk__recommendations|       related_talks|number_of__related_talks|      intro_duration|         ad_duration|    post_ad_duration|  external__duration|external__start_time|talks__player_talks__resources__h264__00__bitrate|  talks__take_action|number_of__talks__take_actions|\n",
            "+-------+-------------------------------------+--------------------+--------------------+--------------------+--------------------+--------------------+--------------------+--------------------+--------------------+--------------------+--------------------+--------------------+--------------------+------------------------------+--------------------+------------------------+---------------------+--------------------+--------------------+--------------------+--------------------+--------------------+--------------------+--------------------+--------------------+--------------------+--------------------+--------------------+--------------------+--------------------+--------------------+--------------------+--------------------+---------------------+---------------------------+------------------------+-----------------------------------+--------------------+-------------------------------+----------------------------+---------------------+--------------------------------+--------------------+------------------------+--------------------+--------------------+--------------------+--------------------+--------------------+-------------------------------------------------+--------------------+------------------------------+\n",
            "|  count|                                 4847|                4814|                4794|                4764|                3815|                4698|                4288|                4673|                4691|                4721|                4735|                4740|                4375|                          4406|                4096|                    3898|                 4587|                4605|                4634|                4043|                4604|                4595|                4625|                4638|                4638|                4622|                4609|                4614|                4620|                4025|                4118|                4559|                4122|                 4010|                       4567|                    4563|                               4584|                4007|                           4559|                        3926|                 3898|                            4458|                4490|                    4490|                4505|                4506|                4521|                4516|                4502|                                             4407|                4254|                          4474|\n",
            "|   mean|                   14512.962464742894|            109718.0|  207.33333333333334|  1918956.4938684504|  206233.39556749497|  129865.53702807357|   593007.9472972973|  460758.15313653136|  253932.35072463768|    76623.2511700468|  25698.726698262242|  28410.668316831685|   32696.74836601307|             40655.42222222222|   84229.84126984127|            65425.328125|   191.71951219512195|   344.0175438596491|   543.9435483870968|   290.3959731543624|  1236.0681818181818|   570.4948453608248|  347.32978723404256|   73.03684210526316|   337.6666666666667|  342.97435897435895|   318.6746031746032|7.409489388986363E10|             263.925|   307.5111111111111|               236.8|  236.33984126984126|   360.8560483870968|   177.99373134328357|          46.32266922094509|      264.95216216216215|                  78.99539568345324|    704.364603960396|              69.18281641961232|           602.4275793650794|    278.4696511627907|              54.706043956043956|   272.5869259259259|      115.91742690058481|  111.74415730337077|   178.0673646209387|  131.62337860780988|   282.5622091062395|   268.4284666666667|                                191.4130828516378|  194.17376404494385|             91.80859531772576|\n",
            "| stddev|                   18810.782942868733|  239580.66012013573|  357.37981662837836|  3339588.4171968317|  1236840.6296519777|   909157.3121458008|    2770452.98922089|  1372971.9743354712|  1181823.4710137162|   772446.8145326655|  207547.77573098347|  245773.61290685268|   238148.9920442685|             281831.8274296112|   647520.7852669911|      506511.21123883984|   4075.3363157672134|  1040.6851383639594|  3952.6566599673265|  1064.8509146937965|   7819.491410976309|  1294.0349696114552|  1076.2132876937342|  499.93660068200353|  1067.1117479052896|  1121.0676762899584|  1014.4951676917151|8.512855158802317E11|  1005.7102274286673|  1017.6891357946334|   916.0998312631305|    958.570181553325|  1091.9332186158538|     763.292609431691|          344.0909538187533|       977.8093663620224|                 483.40632147790666|   5991.637630005224|                512.06313515153|          3584.2296354224754|    984.0527063603903|              404.64714415928137|   989.0845240863744|       621.2127423595952|   633.4077682444109|  1793.2572538088536|   667.1277788575659|   573.0043174728947|   3842.633236010364|                                612.7710440136656|   587.3063757868431|             499.6238532386055|\n",
            "|    min|                                    \"|        THE CRUCIBLE| 'is_published': ...| \"\"Nothing Has to...| \"\"But certainly ...| \"\"Brain Co-Proce...| \"\"Hamlet\"\" depic...|  I was helped by...|  Ariel constantl...|    and it would ...|  I was inspired ...|    and there wer...|   and about 50 m...|            \"\"joint fluid.\"...|  Hedge’s copies—...|      Hedge should hi...|              I'd say|  and the cell op...|                \"\"No|  and his mother ...|    and we've hav...|  and here is the...|    when it was j...|  730 different t...|    optofluidics ...|    not only did ...|   this era coinc...|    suffered the ...|   \"\"Relative to ...|  I'll give you a...|  Dante was staun...|  Aki was determi...|  a group of univ...|               sel...|          so that if you...|      \"\"Our husbands ...|                   and it would ...|    because they ...|             <em><a href=\"\"h...|                Dimon Hunter|   Bartolomé de la...|                in this littl...|               an...|      and vaccines mi...|        Venessa Diaz|  \\t\\t\\tDocumenta...|  I went back to ...|  if you live in ...|    and he would ...|                             \\t\\t\\t\\t    \\t\\t\\...|    and so you ha...|              and my father...|\n",
            "|    max|静岡県函南町生まれ。静岡県立大学看...|” she produces on...|“People are so af...|” says Morgana Ba...|[{'id': '97224', ...| Education and Ur...|♫ Like the heathe...| Journal of Schoo...|♫ Where do we go ...|the takeaway poin...|” meaning the sof...|” the fact that y...|well don't go bla...|ファシリティドッグ・ハンドラー|” she produces on...|    ” a shadow in a m...| ” and rejecting  ...|” and a consultan...|” had gone to the...| Soft Animals. Th...|” in which the sp...|” the troll could...| Yes We Did: An I...| Finding Your Ele...|” she confesses. ...|” to white flower...|” to blue mussels...|” from the Wall S...| The Last Time As...|”  like “coat han...| ” “the tar on roads|” and “the absenc...|{'low': 'https://...| {'zh-tw': {'name'...|       {'zh-cn': {'name'...|       The Art of Asking|               {'zh-tw': {'name'...| Rogue Economics:...|           {'tr': {'name': '...|        {'th': {'name': '...| {'sq': {'name': '...|            {'ru': {'name': '...|” signifying erra...|                    Juno| Monsters vs. Ali...|“I’m a woman, I’m...|” players set a g...|{'zh-tw': {'name'...| Thanks A Thousan...|                             {'sr': {'name': '...|{'zh-cn': {'name'...|          ” have achieved i...|\n",
            "+-------+-------------------------------------+--------------------+--------------------+--------------------+--------------------+--------------------+--------------------+--------------------+--------------------+--------------------+--------------------+--------------------+--------------------+------------------------------+--------------------+------------------------+---------------------+--------------------+--------------------+--------------------+--------------------+--------------------+--------------------+--------------------+--------------------+--------------------+--------------------+--------------------+--------------------+--------------------+--------------------+--------------------+--------------------+---------------------+---------------------------+------------------------+-----------------------------------+--------------------+-------------------------------+----------------------------+---------------------+--------------------------------+--------------------+------------------------+--------------------+--------------------+--------------------+--------------------+--------------------+-------------------------------------------------+--------------------+------------------------------+\n",
            "\n"
          ]
        }
      ]
    },
    {
      "cell_type": "code",
      "source": [
        "# Drop unnecessary columns from the dataset\n",
        "dropped_columns=['talk__id','talk__description','transcript','speaker__id','speaker__who_he_is','speaker__why_listen','speaker__what_others_say',\n",
        "            'speaker__is_published','all_speakers_details','is_talk_featured','has_talk_citation','language_swap','url__webpage',\n",
        "            'url__audio','url__video','url__photo__talk','url__photo__speaker','url__subtitled_videos', 'talk__download_languages',\n",
        "             'talk__more_resources', 'talk__recommendations__blurb','talk__recommendations','related_talks','talks__player_talks__resources__h264__00__bitrate']\n",
        "\n",
        "df=df.drop(*dropped_columns)"
      ],
      "metadata": {
        "id": "oXhtBqkKZwtd"
      },
      "execution_count": null,
      "outputs": []
    },
    {
      "cell_type": "code",
      "source": [
        "df.show()"
      ],
      "metadata": {
        "colab": {
          "base_uri": "https://localhost:8080/"
        },
        "id": "wK6I9kZvZwqn",
        "outputId": "cf773709-afa6-49f1-d3d5-c9a8cbbb8b4e"
      },
      "execution_count": null,
      "outputs": [
        {
          "output_type": "stream",
          "name": "stdout",
          "text": [
            "+--------------------+--------------------+--------------------+--------------------+--------------------+--------------------+--------------------+--------------------+--------------------+--------------------+--------------------+--------------------+--------------------+--------------------+--------------------+--------------------+---------------------------+-----------------------------------+-------------------------------+--------------------------------+------------------------+--------------------+--------------------+--------------------+--------------------+--------------------+--------------------+------------------------------+\n",
            "|          talk__name|          view_count|       comment_count|            duration|     video_type_name|               event| number_of__speakers|       speaker__name|speaker__description|      recording_date| published_timestamp|         talks__tags|     number_of__tags|            language|     native_language|is_subtitle_required|number_of__subtitled_videos|number_of__talk__download_languages|number_of__talk__more_resources|number_of__talk__recommendations|number_of__related_talks|      intro_duration|         ad_duration|    post_ad_duration|  external__duration|external__start_time|  talks__take_action|number_of__talks__take_actions|\n",
            "+--------------------+--------------------+--------------------+--------------------+--------------------+--------------------+--------------------+--------------------+--------------------+--------------------+--------------------+--------------------+--------------------+--------------------+--------------------+--------------------+---------------------------+-----------------------------------+-------------------------------+--------------------------------+------------------------+--------------------+--------------------+--------------------+--------------------+--------------------+--------------------+------------------------------+\n",
            "|Do schools kill c...|            65678748|              4952.0|                1164| you can see the ...| \"\"Oh my God. Why...| they pin you to ...| am I right? Like...| and I think we a...|         nonetheless| on the really ex...| Sirena last nigh...| wasn't she? Just...| but I think she'...|         so to speak| all kids have tr...|        I was born ... \"...|                            drawing|            and in this draw...|             \"\"What are you d...|     \"\"But nobody kno...| \"\"They will in a...| he was four ever...| to be honest.(La...|    wherever he went| he was four that...| it was a big sto...|           you may have see...|\n",
            "|This is what happ...|            59725446|               288.0|                 588| I have an intere...|      Solomon.\"\" Now| my hand was kind...| I could just del...|           \"\"Solomon| \"\"of 25 kgs.(Lau...|           \"\"Solomon| if we're going t...| let's go big.(Ap...| \"\"It is not a ma...| what matters is ...| \"\"What do you do...|        \"\"It will not be...|                I'm completely w...|                      \"\"Solomon|             \"\"I will be so m...|        \"\"That's amazing| What are you goi...|     \"\"On RealEstate| what about you?\"...| \"\"One word; Humm...| and you can dip ...| \"\"I have to go b...|           \"\"Bonsoir my gol...|\n",
            "|Your body languag...| but it may also ...| even when we don...| and might have a...|              2649.0|                1262|\"So I want to sta...| \"\"I want you to ...| and it's going t...| they spit into a...|     for two minutes|              we say| \"\"You need to do...| \"\"How powerful d...| and then we give...| which is the gam...|                two minutes|                and the low-powe...|            or really stress...|             so it's not just...|     our bodies chang...|           of course|                  is| can power posing...| it's this little...| it's just a coup...| like social thre...|           either by your f...|\n",
            "|How great leaders...| Martin Luther Ki...|            50494918|              2093.0|\"How do you expla...|\"\" I mean: What's...|    the way we think| the way we commu...| it's obvious. We...|              a vote| something like t...| we always perfor...| it has leather s...| we believe in ch...| simple to use an...| or a phone from ...|        talking about it...|                biology. If you ...|            the human brain ...|             corresponds with...|     like trust and l...| all decision-making| and it has no ca...| when we communic...|                 yes| people can under...| and then we allo...|                  and they say|\n",
            "|The power of vuln...|            48503432|              2234.0|                1219|              \"\"Well| what's the strug...|              \"\"Well| and I'm going to...|             I think| \"\"You're going t...| \"\"I'm going to c...| \"\"Why not 'magic...| \"\"Let me think a...|            you know| I am a storytell...| \"\"Ha ha. There's...|        it does not exis...|                \"\"Absolutely.\"\" ...|            so my entire aca...|                     clean it up|     to found a caree...| one of the big s...| \"\"Lean into the ...| knock discomfort...|       you know what| this is the care...| by the time you'...|           what you realize...|\n",
            "|How to speak so t...|            42330489|               411.0|                 598| people don't lis...| there are a numb...|     but these seven| are pretty large...| gossip. Speaking...| became very nega...| and it's hard to...|       I said to her| \"\"It's October 1...|     \"\" and she said|            \"\"I know|   complaining. Well|                  and again|                the sixth of the...|            exaggeration. It...|             if I see somethi...|               of course| this exaggeratio...| and we don't wan...| dogmatism. The c...| you're listening...| somebody is bomb...| there is. I'd li...|                   foundations|\n",
            "|Inside the mind o...|            39714672|               579.0|                 843| \"\"Yeah.\"\" And th...| \"\"We need to tal...| \"\"OK.\"\" And they...| very bad thesis....| \"\"This guy is am...| I had a hypothes...| I found an MRI l...| so I could compa...| it's not that ob...| but just take a ...| OK? So here's th...| what does this m...|        because I just r...|                we're going to g...|            so we're not goi...|             and he only care...|     that works fine....| you're a huge su...| humans are just ...| well-fed and pro...| which in tribal ...| if you haven't n...| and the Monkey d...|           the Rational Dec...|\n",
            "|The next outbreak...|            35814459|               494.0|                 512|      TED Stage Talk|             TED2015|                   1|          Bill Gates|Technologist, phi...| he founded Micro...| tech visionary a...| Gates led the co...| Gates transition...| he leads the fou...| the foundation h...| agriculture rese...|       &nbsp;<a href=\"\"h...|                where they take ...|                            0.0|            ['disaster relief...|                      en|                  en|               False|               False|https://www.ted.c...|https://download....|https://pe.tedcdn...|          https://pe.tedcdn...|\n",
            "|My philosophy for...|            34858496|                NULL|                 765| with a lot of th...| I don't want peo...| and I'm able to ...|              for me| there are 3 aspe...|            or music|      or comic books| or any of my fav...| so — (Laughter) ...| sometimes I need...| and I want to pu...| so — That was pr...|        a lot of us are ...|                and we help each...|            as a single coll...|                      is genuine|     going on TV a co...| I feel like I’m ...| as I hope I can ...| is that I hope y...|   love your friends|        for you guys|  and your community|           because they are...|\n",
            "|Looks aren't ever...| pretty and an un...| she takes a wry ...|            34572281|                 577|\"Hi. My name is C...|       I was scouted| and I am the rec...| and maybe you're...| I commend you on...| I have to inform...| a very inspired ...| every single one...| and of the 677 m...|             only 27| were non-white.T...|        or a ninja cardi...|                because you'd be...|            they still are like|                         Cameron|                 \"\" well|          then I say| \"\"Be my boss.\"\" ...| and you could be...| or the next Stev...|    and it's awesome| because unlike c...|           it can just be d...|\n",
            "|What makes a good...|            33478530|               920.0|                 766| we don't just se...| we scan their br...| we talk to their...| we finally asked...| many of the wome...| they're physical...| and they live lo...| their health dec...| their brain func...| more than one in...| so the second bi...| but it's the qua...|        healthy octogena...|                close relationsh...|            that on the days...|             it was magnified...|     that the people ...| those people's m...| those are the pe...| they don't have ...| but as long as t...| those arguments ...| close relationsh...|           this is wisdom t...|\n",
            "|Why people believ...|            32441676|                NULL|                 904| or you can't.\"\" ...| I think it's mor...| that's just an i...| I'm not saying w...| by the end of th...| and when you've ...|             look up| and I'll know yo...| here we go. Star...|     the mouth. Nice|      big smile. Now|       the ear. Next|              fantastic. So|                but you've actua...|                 under the hair|             line to the righ...|     two circles toge...| two little dots ...|        the ear. Now| we'll have some ...| watch. Nice curl...| little line like...| line to the righ...|           so we've got the...|\n",
            "|10 things you did...| some of it centu...| to make 10 surpr...| ranging from the...|               406.0|                1003|\"Alright. I'm goi...| \"\"The hand grasp...| so it would have...| very sensitive a...| wherever that is...| who was fascinat...| but no — it happ...| to see if that w...|            you know| I interviewed a ...|        \"\"Are you just d...|                    when I get home|            along the spinal...|             if you stimulate...|     you will trigger...| a beating-heart ...|        legally dead| definitely check...| but is being kep...| so that their or...| you will see som...|           not being dead. ...|\n",
            "|The orchestra in ...|            29331917|               191.0|                 701| TEDx. If you guy...|  my name's Tom Thum| and I'm a beatboxer| and the only thi...| very stoked — (A...|     I'm from Brizzy| which is a great...| but let's be hon...| and so the pursu...|            if I may| my experiences. ...|               party|        I can use them i...|                ladies and gentl...|            take it away. (M...|             let's take it fo...|     ladies and gentl...| I'd like to intr...| one of the great...| please give a wa...|           TEDx Talk|          TEDxSydney|              1664.0|                      Tom Thum|\n",
            "|  How to spot a liar|            29092750|               660.0|                1130|\"\" no one wants t...|                  no|                  no|                  no|        no. They say| \"\"Gotcha! Gotcha...| liespotters are ...| and they do what...| sometimes during...| and that proposi...| a lie has no pow...| if at some point...|        favorite of the ...|                I just fished th...|            the mortgage cri...|             they can comprom...|     they can cause t...|    Henry Oberlander| he was such an e...| British authorit...| and he said the ...|              \"\"Look|             he said|                        \"\"Look|\n",
            "|The art of misdir...|            27705296|               310.0|                 527|      TED Stage Talk|      TEDGlobal 2013|                   1|      Apollo Robbins|     Gentleman thief| and he also is t...| a collective of ...|In magic circles,...|                 1.0|\"[{'id': '1616', ...| Robbins is regar...| as the magician ...|        possessor of a s...|                and something he...|           </em> is &ldquo;s...|             speaker and tele...|     a collective of ...|                True|                NULL|          2013-06-12| 2013-09-13 15:02:39|['crime', 'entert...|                  en|                            en|\n",
            "|My stroke of insight|            26728715|              2986.0|                1099| as compared with...| schizoaffective ...| with which chemi...| but then in the ...| I traveled as an...| write or recall ...| it's obvious tha...| laughter)So this...| the back of brai...| and this is how ...| it's obvious tha...| while our left h...|        they have very d...|                it thinks in pic...|            streams in simul...|                       right now|     here to make the...| we are whole and...| our left hemisphere| is a very differ...| and more details...| associates it wi...|               \"\"Hey|           you've got to re...|\n",
            "|How I held my bre...|            26510997|               331.0|                1219|             \"\"David|   you're a magician| create the illus...| he came up with ...| with a CO2 scrubber| and stuck my fac...| which was really...|    as a doctor said| while having an ...| that idea disapp...| would it be poss...| obviously.Then I...|        and it builds up...|                and just control...|            you get tingling...|             and just hold an...|      this is for months| I would wake up ...|   out of 52 minutes| I would hold my ...| basically what t...| I'd breathe real...| for five and a h...|           purging as hard ...|\n",
            "|The power of intr...|            26452711|              1320.0|                1144| that's the way w...|              rowdie| let's get rowdie...| the coolest girl...| \"\"Why are you be...| I tell you this ...| that I should be...| and so I became ...|       of all things| instead of the w...| that I wasn't ev...| but it is also o...|        including social...|                more low-key env...|            they are designe...|             and we did most ...|     which you think ...| kids are now exp...| those kids are s...|               worse| as problem cases...| even though intr...| same thing is tr...|           most of us work ...|\n",
            "|The puzzle of mot...|            25890983|              1165.0|                1116| melt the side of...| try to adhere it...| after five or te...| which you can se...| as a platform fo...| \"\"If you're in t...| you get five dol...| you get 20 dolla...| adjusted for inf...| it's a decent su...|          on average|       right? I mean|        then you get tha...|                              often|            and also one of ...|             there is a misma...|     how we apply our...| around carrots a...|    that mechanistic| reward-and-punis...|  often doesn't work| and often does h...| like this up her...|           the incentivized...|\n",
            "+--------------------+--------------------+--------------------+--------------------+--------------------+--------------------+--------------------+--------------------+--------------------+--------------------+--------------------+--------------------+--------------------+--------------------+--------------------+--------------------+---------------------------+-----------------------------------+-------------------------------+--------------------------------+------------------------+--------------------+--------------------+--------------------+--------------------+--------------------+--------------------+------------------------------+\n",
            "only showing top 20 rows\n",
            "\n"
          ]
        }
      ]
    },
    {
      "cell_type": "code",
      "source": [],
      "metadata": {
        "id": "uRgYYW_YZwC7"
      },
      "execution_count": null,
      "outputs": []
    },
    {
      "cell_type": "code",
      "source": [],
      "metadata": {
        "id": "FJe6fv8XZv_Y"
      },
      "execution_count": null,
      "outputs": []
    },
    {
      "cell_type": "code",
      "source": [],
      "metadata": {
        "id": "6n9f-E-XZv8i"
      },
      "execution_count": null,
      "outputs": []
    },
    {
      "cell_type": "code",
      "source": [],
      "metadata": {
        "id": "l6w1KjjnZvlT"
      },
      "execution_count": null,
      "outputs": []
    },
    {
      "cell_type": "code",
      "source": [],
      "metadata": {
        "id": "MWZolTuZZvh6"
      },
      "execution_count": null,
      "outputs": []
    },
    {
      "cell_type": "code",
      "source": [],
      "metadata": {
        "id": "9PnOVtYTZvdE"
      },
      "execution_count": null,
      "outputs": []
    },
    {
      "cell_type": "code",
      "source": [],
      "metadata": {
        "id": "xBwBf-ZfZu3A"
      },
      "execution_count": null,
      "outputs": []
    },
    {
      "cell_type": "code",
      "source": [],
      "metadata": {
        "id": "YSgXxxHmZuzn"
      },
      "execution_count": null,
      "outputs": []
    },
    {
      "cell_type": "code",
      "source": [],
      "metadata": {
        "id": "Xr1tzi8MZuw0"
      },
      "execution_count": null,
      "outputs": []
    },
    {
      "cell_type": "code",
      "source": [],
      "metadata": {
        "id": "p8xS37ecZuh_"
      },
      "execution_count": null,
      "outputs": []
    },
    {
      "cell_type": "code",
      "source": [],
      "metadata": {
        "id": "4obGocqwWWex"
      },
      "execution_count": null,
      "outputs": []
    },
    {
      "cell_type": "code",
      "source": [],
      "metadata": {
        "id": "o95Ge9MqWWci"
      },
      "execution_count": null,
      "outputs": []
    },
    {
      "cell_type": "code",
      "source": [],
      "metadata": {
        "id": "yyUuAZB_SSCW"
      },
      "execution_count": null,
      "outputs": []
    },
    {
      "cell_type": "code",
      "source": [],
      "metadata": {
        "id": "mu6cHW-5SR_n"
      },
      "execution_count": null,
      "outputs": []
    },
    {
      "cell_type": "code",
      "source": [],
      "metadata": {
        "id": "E7ob7PjMSR87"
      },
      "execution_count": null,
      "outputs": []
    },
    {
      "cell_type": "code",
      "source": [],
      "metadata": {
        "id": "gtermSinSR6R"
      },
      "execution_count": null,
      "outputs": []
    },
    {
      "cell_type": "code",
      "source": [],
      "metadata": {
        "id": "xvPlrLRnSR1n"
      },
      "execution_count": null,
      "outputs": []
    },
    {
      "cell_type": "code",
      "source": [],
      "metadata": {
        "id": "u9BnoZbOSRtf"
      },
      "execution_count": null,
      "outputs": []
    }
  ]
}